{
  "nbformat": 4,
  "nbformat_minor": 0,
  "metadata": {
    "colab": {
      "provenance": [],
      "authorship_tag": "ABX9TyNiHA65NztNSvF8zsEqEcV1",
      "include_colab_link": true
    },
    "kernelspec": {
      "name": "python3",
      "display_name": "Python 3"
    },
    "language_info": {
      "name": "python"
    }
  },
  "cells": [
    {
      "cell_type": "markdown",
      "metadata": {
        "id": "view-in-github",
        "colab_type": "text"
      },
      "source": [
        "<a href=\"https://colab.research.google.com/github/shivanya-tech/python-practice/blob/main/ALL_String_methods.ipynb\" target=\"_parent\"><img src=\"https://colab.research.google.com/assets/colab-badge.svg\" alt=\"Open In Colab\"/></a>"
      ]
    },
    {
      "cell_type": "markdown",
      "source": [
        "# 🔠 Python String Methods Notebook\n",
        "\n",
        "✅ This notebook showcases **40+ string methods** in Python.  \n",
        "Each method is:\n",
        "\n",
        "- 💡 Separated into individual cells using `# @title`\n",
        "- 🧪 Demonstrated with a code example and explanation\n",
        "- 📘 Useful for learning, revision, or interviews\n",
        "\n",
        "**How to Use:**\n",
        "- ▶️ Run each cell to see output\n",
        "- 📝 Modify inputs to explore behavior\n",
        "- 🧠 Use this notebook as a reference for common string operations\n"
      ],
      "metadata": {
        "id": "IFzbXRz7ekcw"
      }
    },
    {
      "cell_type": "markdown",
      "source": [
        "# case methods"
      ],
      "metadata": {
        "id": "xQjoCmEkojbh"
      }
    },
    {
      "cell_type": "code",
      "source": [
        "# @title capitalize()\n",
        "#Capitalizes only the first character of the entire string. Lowercases all other characters.\n",
        "S = \"shivani\"\n",
        "print(S.capitalize())  # Shivani\n",
        "\n",
        "text = \"pYTHON is AwEsoMe\"\n",
        "print(text.capitalize()) #Python is awesome\n"
      ],
      "metadata": {
        "id": "vJpYZCKIbA3z",
        "outputId": "0fa0f91d-b3fe-4349-e56a-805cb24c768d",
        "colab": {
          "base_uri": "https://localhost:8080/"
        }
      },
      "execution_count": null,
      "outputs": [
        {
          "output_type": "stream",
          "name": "stdout",
          "text": [
            "Shivani\n",
            "Python is awesome\n"
          ]
        }
      ]
    },
    {
      "cell_type": "code",
      "source": [
        "# @title title()\n",
        "title_case = \"heLlo worLd\"\n",
        "print(title_case.title())  # Hello World → Capitalizes first letter of each word and converts the rest of the letters in each word to lowercase."
      ],
      "metadata": {
        "id": "4EHeJfiXbLyZ",
        "outputId": "4d56afa7-0207-46f8-ef6f-3dd232f7b103",
        "colab": {
          "base_uri": "https://localhost:8080/"
        }
      },
      "execution_count": null,
      "outputs": [
        {
          "output_type": "stream",
          "name": "stdout",
          "text": [
            "Hello World\n"
          ]
        }
      ]
    },
    {
      "cell_type": "code",
      "source": [
        "# @title casefold()\n",
        " # Aggressive lowercase for comparisons\n",
        "\n",
        "title_case = \"heLlo WorLd\" #Converts all characters to lowercase.\n",
        "print(title_case.casefold())\n",
        "\n",
        "text1 = \"straße\"      # German word for \"street\"\n",
        "text2 = \"STRASSE\"\n",
        "\n",
        "print(text1.casefold() == text2.casefold())\n",
        "\n",
        "\n"
      ],
      "metadata": {
        "colab": {
          "base_uri": "https://localhost:8080/"
        },
        "id": "Y9fKb4JdbDB8",
        "outputId": "26369812-3bf2-4191-e113-5f19bf521f00"
      },
      "execution_count": null,
      "outputs": [
        {
          "output_type": "stream",
          "name": "stdout",
          "text": [
            "hello world\n",
            "True\n"
          ]
        }
      ]
    },
    {
      "cell_type": "code",
      "source": [
        "# @title lower()\n",
        "b=\"WOrld\"\n",
        "print(b.lower())\n",
        "\n"
      ],
      "metadata": {
        "id": "sLon8WFLbRMU",
        "outputId": "38e65b0e-1261-423a-b38f-2f3aa43a7526",
        "colab": {
          "base_uri": "https://localhost:8080/"
        }
      },
      "execution_count": null,
      "outputs": [
        {
          "output_type": "stream",
          "name": "stdout",
          "text": [
            "world\n"
          ]
        }
      ]
    },
    {
      "cell_type": "code",
      "source": [
        "# @title swapcase()\n",
        "print(S.swapcase())  # SHIVANI → Swaps lowercase to uppercase and vice versa\n",
        "name=\"RAJ\"\n",
        "print(name.swapcase())"
      ],
      "metadata": {
        "colab": {
          "base_uri": "https://localhost:8080/"
        },
        "id": "drxsRHGSbHl3",
        "outputId": "e22a46a4-e9e6-4282-d4fa-809ebd979c99"
      },
      "execution_count": null,
      "outputs": [
        {
          "output_type": "stream",
          "name": "stdout",
          "text": [
            "SHIVANI\n",
            "raj\n"
          ]
        }
      ]
    },
    {
      "cell_type": "code",
      "source": [
        "# @title upper()\n",
        "a=\"world\"\n",
        "print(a.upper())"
      ],
      "metadata": {
        "id": "opVi-r18bQF7",
        "colab": {
          "base_uri": "https://localhost:8080/"
        },
        "outputId": "187923df-ea8b-461b-c71a-b87007ff62da"
      },
      "execution_count": null,
      "outputs": [
        {
          "output_type": "stream",
          "name": "stdout",
          "text": [
            "WORLD\n"
          ]
        }
      ]
    },
    {
      "cell_type": "markdown",
      "source": [
        "# count & find methods"
      ],
      "metadata": {
        "id": "UFIC4E66on70"
      }
    },
    {
      "cell_type": "code",
      "source": [
        "# @title count()\n",
        "text = \"banana\"\n",
        "print(text.count(\"a\"))  # 3 → Number of times 'a' appears\n",
        "\n",
        "#string.count(substring, start=0, end=len(string))\n",
        "text = \"banana\"\n",
        "print(text.count(\"a\", 2, 6))  # checks \"nana\"\n",
        "print(text.count(\"a\", 4, 6))\n"
      ],
      "metadata": {
        "colab": {
          "base_uri": "https://localhost:8080/"
        },
        "id": "J9CVUr2qbVEY",
        "outputId": "a3e90351-aeba-40ae-b547-73d0d549019c"
      },
      "execution_count": null,
      "outputs": [
        {
          "output_type": "stream",
          "name": "stdout",
          "text": [
            "3\n",
            "2\n",
            "1\n"
          ]
        }
      ]
    },
    {
      "cell_type": "code",
      "source": [
        "# @title find()\n",
        "#find() returns the first occurrence.\n",
        "\n",
        "print(S.find(\"i\"))  # 1 → First occurrence of 'i'"
      ],
      "metadata": {
        "id": "QEEM2dBBbZ5J",
        "colab": {
          "base_uri": "https://localhost:8080/"
        },
        "outputId": "033f4029-8314-4f48-d93b-4ead10cd1866"
      },
      "execution_count": null,
      "outputs": [
        {
          "output_type": "stream",
          "name": "stdout",
          "text": [
            "2\n"
          ]
        }
      ]
    },
    {
      "cell_type": "code",
      "source": [
        "# @title rfind()\n",
        "#rfind() returns the last occurrence.\n",
        "print(S.rfind(\"i\"))  # 6 → Last occurrence (right-side)\n",
        "print(S.rfind(\"L\")) #substring is not found, it returns -1.\n"
      ],
      "metadata": {
        "id": "P32t8JFUcFxK",
        "outputId": "62fbf751-88df-4785-905a-2a69bb462b37",
        "colab": {
          "base_uri": "https://localhost:8080/"
        }
      },
      "execution_count": null,
      "outputs": [
        {
          "output_type": "stream",
          "name": "stdout",
          "text": [
            "6\n",
            "-1\n"
          ]
        }
      ]
    },
    {
      "cell_type": "code",
      "source": [
        "# @title index()\n",
        "print(S.index(\"s\"))  # 0 → Index of 's' in the string S .\n",
        "\n",
        "text = \"hello world\"\n",
        "print(text.index(\"world\"))  # 6 → 'world' starts at index 6\n",
        "\n",
        "text = \"hello hello\"\n",
        "print(text.index(\"lo\", 5))  # 9 → 'lo' found in second 'hello', starting from index 5\n",
        "\n",
        "text = \"hello world\"\n",
        "print(text.index(\"Python\"))  # ValueError → 'Python' not found in the string\n",
        "\n"
      ],
      "metadata": {
        "id": "iWxZ5qkfcLDk",
        "colab": {
          "base_uri": "https://localhost:8080/",
          "height": 245
        },
        "outputId": "aeca1116-d8b9-4ce0-fa06-3c1cca605f82"
      },
      "execution_count": null,
      "outputs": [
        {
          "output_type": "stream",
          "name": "stdout",
          "text": [
            "0\n",
            "6\n",
            "9\n"
          ]
        },
        {
          "output_type": "error",
          "ename": "ValueError",
          "evalue": "substring not found",
          "traceback": [
            "\u001b[0;31m---------------------------------------------------------------------------\u001b[0m",
            "\u001b[0;31mValueError\u001b[0m                                Traceback (most recent call last)",
            "\u001b[0;32m<ipython-input-71-545f813e7c05>\u001b[0m in \u001b[0;36m<cell line: 0>\u001b[0;34m()\u001b[0m\n\u001b[1;32m      9\u001b[0m \u001b[0;34m\u001b[0m\u001b[0m\n\u001b[1;32m     10\u001b[0m \u001b[0mtext\u001b[0m \u001b[0;34m=\u001b[0m \u001b[0;34m\"hello world\"\u001b[0m\u001b[0;34m\u001b[0m\u001b[0;34m\u001b[0m\u001b[0m\n\u001b[0;32m---> 11\u001b[0;31m \u001b[0mprint\u001b[0m\u001b[0;34m(\u001b[0m\u001b[0mtext\u001b[0m\u001b[0;34m.\u001b[0m\u001b[0mindex\u001b[0m\u001b[0;34m(\u001b[0m\u001b[0;34m\"Python\"\u001b[0m\u001b[0;34m)\u001b[0m\u001b[0;34m)\u001b[0m  \u001b[0;31m# ValueError → 'Python' not found in the string\u001b[0m\u001b[0;34m\u001b[0m\u001b[0;34m\u001b[0m\u001b[0m\n\u001b[0m\u001b[1;32m     12\u001b[0m \u001b[0;34m\u001b[0m\u001b[0m\n",
            "\u001b[0;31mValueError\u001b[0m: substring not found"
          ]
        }
      ]
    },
    {
      "cell_type": "markdown",
      "source": [
        "#🔍 Difference between find() and index() in Python\n",
        "\n",
        "\n",
        "| Feature      | find()                            | index()                          |\n",
        "|--------------|-----------------------------------|----------------------------------|\n",
        "| Purpose      | Finds the position of a substring | Same as find()                   |\n",
        "| If not found | Returns -1                        | Raises ValueError                |\n",
        "| Use case     | When you're unsure if it exists   | When you're sure it exists       |\n",
        "\n"
      ],
      "metadata": {
        "id": "JC4Ol4Qepp5F"
      }
    },
    {
      "cell_type": "code",
      "source": [
        "# @title startswith()\n",
        "\n",
        "print(S.startswith(\"shi\"))  # True\n",
        "\n",
        "#Check with multiple options (tuple)\n",
        "url = \"https://amazon.com\"\n",
        "print(url.startswith((\"http://\", \"https://\")))\n",
        "\n",
        "#With start and end range\n",
        "text = \"hello world\"\n",
        "print(text.startswith(\"world\", 6))  # checks from index 6 onward\n",
        "\n",
        "\n",
        "\n",
        "\n",
        "\n"
      ],
      "metadata": {
        "id": "qzs0WfeccTLe",
        "colab": {
          "base_uri": "https://localhost:8080/"
        },
        "outputId": "1f7ab861-01e2-4ed9-df89-9d309061d69e"
      },
      "execution_count": null,
      "outputs": [
        {
          "output_type": "stream",
          "name": "stdout",
          "text": [
            "True\n",
            "True\n",
            "True\n"
          ]
        }
      ]
    },
    {
      "cell_type": "code",
      "source": [
        "# @title endswith()\n",
        "\n",
        "print(S.endswith(\"i\"))  # True\n",
        "\n",
        "#Check with multiple options (tuple)\n",
        "file = \"data.csv\"\n",
        "print(file.endswith((\".csv\", \".xlsx\")))\n",
        "\n",
        "#With a specific range\n",
        "#string.endswith(suffix, start=0, end=len(string))\n",
        "text = \"hello world\"\n",
        "print(text.endswith(\"lo\", 0, 5))  # checks \"hello\""
      ],
      "metadata": {
        "id": "Q4mqYlkHcVqA"
      },
      "execution_count": null,
      "outputs": []
    },
    {
      "cell_type": "markdown",
      "source": [
        "#FORMAT METHODS"
      ],
      "metadata": {
        "id": "6Pwuvi3XqRoV"
      }
    },
    {
      "cell_type": "code",
      "source": [
        "# @title format()\n",
        "#syntax: \"string with {} placeholders\".format(values)\n",
        "\n",
        "print(\"Hello, {}\".format(\"Shivani\"))  # Hello, Shivani\n",
        "\n",
        "name = \"Alice\"\n",
        "print(f\"Hello, {name}!\")\n",
        "\n",
        "name = \"Alice\"\n",
        "age = 25\n",
        "print(\"Name: {}, Age: {}\".format(name, age))\n",
        "\n",
        "#index based\n",
        "print(\"First: {0}, Second: {1}, Again First: {0}\".format(\"A\", \"B\"))\n",
        "\n",
        "#name placeholders\n",
        "print(\"Name: {name}, Age: {age}\".format(name=\"Bob\", age=30))\n",
        "\n",
        "#formatting numbers\n",
        "price = 12.3456\n",
        "print(\"Price: {:.2f}\".format(price))  # 2 decimal places\n",
        "\n",
        "\n",
        "\n",
        "\n"
      ],
      "metadata": {
        "id": "m2KeA9NscYVj",
        "outputId": "fa456992-4354-4934-acd0-5c5aad56b105",
        "colab": {
          "base_uri": "https://localhost:8080/"
        }
      },
      "execution_count": 1,
      "outputs": [
        {
          "output_type": "stream",
          "name": "stdout",
          "text": [
            "Hello, Shivani\n",
            "Name: Alice, Age: 25\n",
            "First: A, Second: B, Again First: A\n",
            "Name: Bob, Age: 30\n",
            "Price: 12.35\n",
            "Hello, Alice!\n"
          ]
        }
      ]
    },
    {
      "cell_type": "code",
      "source": [
        "# @title format_map()\n",
        "print(\"Name: {name}, Age: {age}\".format_map({\"name\": \"Shivani\", \"age\": 22}))\n"
      ],
      "metadata": {
        "id": "aS36dIFCccGp"
      },
      "execution_count": null,
      "outputs": []
    },
    {
      "cell_type": "code",
      "source": [
        "# @title split()\n",
        "#syntax :  string.split(separator)\n",
        "#syntax :  string.split(separator, maxsplit)\n",
        "\n",
        "text = \"I love Python\" #default (split by whitespace)\n",
        "print(text.split())\n",
        "\n",
        "\n",
        "s2 = \"shiv,ani\"\n",
        "print(s2.split(\",\"))  # ['shiv', 'ani']\n",
        "\n",
        "text = \"one two three four five\" #With maxsplit\n",
        "print(text.split(\" \", 2)) #only 2 splits happen\n",
        "print(text.split(\" \", 3)) #only 3 splits happen\n",
        "\n",
        "\n",
        "\n"
      ],
      "metadata": {
        "id": "0xYTT6i1ceeQ",
        "outputId": "ab3dae6e-38c9-476f-91ac-7e6b40dbca47",
        "colab": {
          "base_uri": "https://localhost:8080/"
        }
      },
      "execution_count": 4,
      "outputs": [
        {
          "output_type": "stream",
          "name": "stdout",
          "text": [
            "['I', 'love', 'Python']\n",
            "['shiv', 'ani']\n",
            "['one', 'two', 'three four five']\n",
            "['one', 'two', 'three', 'four five']\n"
          ]
        }
      ]
    },
    {
      "cell_type": "code",
      "source": [
        "# @title splitlines()\n",
        "#syntax: string.splitlines(keepends=False)\n",
        "text = \"Hello\\nWorld\\r\\nPython\"\n",
        "print(text.splitlines(keepends=True))\n",
        "\n",
        "multi_line = \"Line1\\nLine2\\nLine3\"\n",
        "print(multi_line.splitlines())  # ['Line1', 'Line2', 'Line3']"
      ],
      "metadata": {
        "id": "m2kQL1bachW8"
      },
      "execution_count": null,
      "outputs": []
    },
    {
      "cell_type": "code",
      "source": [
        "# @title join()\n",
        "# syntax: separator.join(iterable)\n",
        "\n",
        "words = [\"Python\", \"is\", \"awesome\"]\n",
        "result = \" \".join(words)\n",
        "print(result)\n",
        "\n",
        "\n",
        "print(\"-\".join([\"shi\", \"va\", \"ni\"]))  # shi-va-ni\n",
        "\n",
        "#All elements in the iterable must be strings\n",
        "print(\" \".join(map(str, [1, 2, 3])))  # ✅ Output: \"1 2 3\"\n",
        "print(\" \".join([1, 2, 3]))  # ❌ TypeError\n",
        "\n",
        "\n"
      ],
      "metadata": {
        "id": "kzi9AJr9cke8",
        "outputId": "231d9088-d4fb-4eea-a340-50f731a9f7f1",
        "colab": {
          "base_uri": "https://localhost:8080/",
          "height": 263
        }
      },
      "execution_count": null,
      "outputs": [
        {
          "output_type": "stream",
          "name": "stdout",
          "text": [
            "Python is awesome\n",
            "shi-va-ni\n",
            "1 2 3\n"
          ]
        },
        {
          "output_type": "error",
          "ename": "TypeError",
          "evalue": "sequence item 0: expected str instance, int found",
          "traceback": [
            "\u001b[0;31m---------------------------------------------------------------------------\u001b[0m",
            "\u001b[0;31mTypeError\u001b[0m                                 Traceback (most recent call last)",
            "\u001b[0;32m<ipython-input-51-694da0072e1f>\u001b[0m in \u001b[0;36m<cell line: 0>\u001b[0;34m()\u001b[0m\n\u001b[1;32m     11\u001b[0m \u001b[0;31m#All elements in the iterable must be strings\u001b[0m\u001b[0;34m\u001b[0m\u001b[0;34m\u001b[0m\u001b[0m\n\u001b[1;32m     12\u001b[0m \u001b[0mprint\u001b[0m\u001b[0;34m(\u001b[0m\u001b[0;34m\" \"\u001b[0m\u001b[0;34m.\u001b[0m\u001b[0mjoin\u001b[0m\u001b[0;34m(\u001b[0m\u001b[0mmap\u001b[0m\u001b[0;34m(\u001b[0m\u001b[0mstr\u001b[0m\u001b[0;34m,\u001b[0m \u001b[0;34m[\u001b[0m\u001b[0;36m1\u001b[0m\u001b[0;34m,\u001b[0m \u001b[0;36m2\u001b[0m\u001b[0;34m,\u001b[0m \u001b[0;36m3\u001b[0m\u001b[0;34m]\u001b[0m\u001b[0;34m)\u001b[0m\u001b[0;34m)\u001b[0m\u001b[0;34m)\u001b[0m  \u001b[0;31m# ✅ Output: \"1 2 3\"\u001b[0m\u001b[0;34m\u001b[0m\u001b[0;34m\u001b[0m\u001b[0m\n\u001b[0;32m---> 13\u001b[0;31m \u001b[0mprint\u001b[0m\u001b[0;34m(\u001b[0m\u001b[0;34m\" \"\u001b[0m\u001b[0;34m.\u001b[0m\u001b[0mjoin\u001b[0m\u001b[0;34m(\u001b[0m\u001b[0;34m[\u001b[0m\u001b[0;36m1\u001b[0m\u001b[0;34m,\u001b[0m \u001b[0;36m2\u001b[0m\u001b[0;34m,\u001b[0m \u001b[0;36m3\u001b[0m\u001b[0;34m]\u001b[0m\u001b[0;34m)\u001b[0m\u001b[0;34m)\u001b[0m  \u001b[0;31m# ❌ TypeError\u001b[0m\u001b[0;34m\u001b[0m\u001b[0;34m\u001b[0m\u001b[0m\n\u001b[0m\u001b[1;32m     14\u001b[0m \u001b[0;34m\u001b[0m\u001b[0m\n\u001b[1;32m     15\u001b[0m \u001b[0;34m\u001b[0m\u001b[0m\n",
            "\u001b[0;31mTypeError\u001b[0m: sequence item 0: expected str instance, int found"
          ]
        }
      ]
    },
    {
      "cell_type": "code",
      "source": [
        "# @title center()\n",
        "\n",
        "text = \"hello\"\n",
        "print(text.center(100))  # '   hello   '\n"
      ],
      "metadata": {
        "id": "KZT10SP2cmtF"
      },
      "execution_count": null,
      "outputs": []
    },
    {
      "cell_type": "code",
      "source": [
        "\n",
        "# @title center(fill)\n",
        "\n",
        "print(text.center(11, '-'))  # '---hello---'"
      ],
      "metadata": {
        "id": "8NCf2rR7cqVO"
      },
      "execution_count": null,
      "outputs": []
    },
    {
      "cell_type": "code",
      "source": [
        "# @title rjust()\n",
        "text = \"hello\"\n",
        "print(text.rjust(8, '0'))  # '000hello'\n"
      ],
      "metadata": {
        "id": "BXuBcn8Actst"
      },
      "execution_count": null,
      "outputs": []
    },
    {
      "cell_type": "code",
      "source": [
        "# @title ljust()\n",
        "text = \"hello\"\n",
        "print(text.ljust(8, '*'))  # 'hello***'"
      ],
      "metadata": {
        "id": "BpBmNwBMcyXG"
      },
      "execution_count": null,
      "outputs": []
    },
    {
      "cell_type": "code",
      "source": [
        "# @title zfill()\n",
        "print(\"42\".zfill(5))  #'00042'"
      ],
      "metadata": {
        "id": "7OZtBgfzc09q"
      },
      "execution_count": null,
      "outputs": []
    },
    {
      "cell_type": "code",
      "source": [
        "d=\"123girl\"\n",
        "# @title isalnum()\n",
        "print(d.isalnum())  # True"
      ],
      "metadata": {
        "id": "7QAtgwCKc2Qf"
      },
      "execution_count": null,
      "outputs": []
    },
    {
      "cell_type": "code",
      "source": [
        "# @title isalpha()\n",
        "d=\"123girl\"\n",
        "print(d.isalpha())"
      ],
      "metadata": {
        "id": "FlP_9Sm-c7x6",
        "colab": {
          "base_uri": "https://localhost:8080/"
        },
        "outputId": "f889f40c-531e-4b55-c181-43be433c35dd"
      },
      "execution_count": null,
      "outputs": [
        {
          "output_type": "stream",
          "name": "stdout",
          "text": [
            "False\n"
          ]
        }
      ]
    },
    {
      "cell_type": "code",
      "source": [
        "# @title isdecimal()\n",
        "digits = \"12345\"\n",
        "print(digits.isdecimal())  # True"
      ],
      "metadata": {
        "id": "igIeAnJXc927",
        "colab": {
          "base_uri": "https://localhost:8080/"
        },
        "outputId": "ebc5cc64-34fa-45a0-d68a-a233e7aa087b"
      },
      "execution_count": null,
      "outputs": [
        {
          "output_type": "stream",
          "name": "stdout",
          "text": [
            "True\n"
          ]
        }
      ]
    },
    {
      "cell_type": "code",
      "source": [
        "# @title isdigit()\n",
        "print(digits.isdigit())  # True"
      ],
      "metadata": {
        "id": "USOvPCpgdE-7",
        "colab": {
          "base_uri": "https://localhost:8080/"
        },
        "outputId": "f83f5743-9557-410e-b96f-e0c9dc333e52"
      },
      "execution_count": null,
      "outputs": [
        {
          "output_type": "stream",
          "name": "stdout",
          "text": [
            "True\n"
          ]
        }
      ]
    },
    {
      "cell_type": "code",
      "source": [
        "# @title isascii()\n",
        "E=\"rainbow\"\n",
        "print(E.isascii())  # True"
      ],
      "metadata": {
        "id": "2iWTzl2QdHRS",
        "colab": {
          "base_uri": "https://localhost:8080/"
        },
        "outputId": "3fdddb5b-22b9-410f-d898-d4806b515037"
      },
      "execution_count": null,
      "outputs": [
        {
          "output_type": "stream",
          "name": "stdout",
          "text": [
            "True\n"
          ]
        }
      ]
    },
    {
      "cell_type": "code",
      "source": [
        "# @title isupper()\n",
        "\n",
        "print(E.isupper())  # False\n",
        "f=\"RAINBOW\"\n",
        "print(f.isupper())\n"
      ],
      "metadata": {
        "id": "qE_JeZBjdKG4",
        "colab": {
          "base_uri": "https://localhost:8080/"
        },
        "outputId": "c50362d5-810f-429c-dbb9-e1b0b7014822"
      },
      "execution_count": null,
      "outputs": [
        {
          "output_type": "stream",
          "name": "stdout",
          "text": [
            "False\n",
            "True\n"
          ]
        }
      ]
    },
    {
      "cell_type": "code",
      "source": [
        "\n",
        "# @title isidentifier()\n",
        "identifier = \"my_var\"\n",
        "not_identifier = \"123abc\"\n",
        "print(identifier.isidentifier())  # True\n",
        "print(not_identifier.isidentifier())  # False"
      ],
      "metadata": {
        "id": "xnQn-LdMdM-0",
        "colab": {
          "base_uri": "https://localhost:8080/"
        },
        "outputId": "22ed49fe-eb2d-49cf-9e75-d977c8f9d722"
      },
      "execution_count": null,
      "outputs": [
        {
          "output_type": "stream",
          "name": "stdout",
          "text": [
            "True\n",
            "False\n"
          ]
        }
      ]
    },
    {
      "cell_type": "code",
      "source": [
        "# @title strip()\n",
        "space_text = \"   hello   \"\n",
        "print(space_text.strip())  # 'hello'"
      ],
      "metadata": {
        "id": "YrWZvrDudUDU",
        "colab": {
          "base_uri": "https://localhost:8080/"
        },
        "outputId": "4a5a7b2a-8a3f-4ced-d06e-e3b28e425e1d"
      },
      "execution_count": null,
      "outputs": [
        {
          "output_type": "stream",
          "name": "stdout",
          "text": [
            "hello\n"
          ]
        }
      ]
    },
    {
      "cell_type": "code",
      "source": [
        "\n",
        "# @title lstrip()\n",
        "print(space_text.lstrip())  # 'hello   '"
      ],
      "metadata": {
        "id": "Ms7Tvs-qdVV-",
        "colab": {
          "base_uri": "https://localhost:8080/"
        },
        "outputId": "7c637877-9387-48b6-bbd7-f302eca2d3e9"
      },
      "execution_count": null,
      "outputs": [
        {
          "output_type": "stream",
          "name": "stdout",
          "text": [
            "hello   \n"
          ]
        }
      ]
    },
    {
      "cell_type": "code",
      "source": [
        "# @title rstrip()\n",
        "print(space_text.rstrip())  # '   hello'"
      ],
      "metadata": {
        "id": "oupuBp24dX1r",
        "colab": {
          "base_uri": "https://localhost:8080/"
        },
        "outputId": "3d4cb6c5-a0d3-41f4-9ab7-b2170da1faa7"
      },
      "execution_count": null,
      "outputs": [
        {
          "output_type": "stream",
          "name": "stdout",
          "text": [
            "   hello\n"
          ]
        }
      ]
    },
    {
      "cell_type": "code",
      "source": [
        "# @title replace()\n",
        "quote = \"I like apples. Apples are sweet.\"\n",
        "print(quote.replace(\"apples\", \"oranges\"))  # 'I like oranges. Apples are sweet.'\n",
        "print(quote.lower().replace(\"apples\", \"oranges\"))  # 'i like oranges. oranges are sweet.'"
      ],
      "metadata": {
        "colab": {
          "base_uri": "https://localhost:8080/"
        },
        "id": "vO7SxzjQd-yk",
        "outputId": "74bec249-fd4a-4323-bff3-9d0cb99c3370"
      },
      "execution_count": null,
      "outputs": [
        {
          "output_type": "stream",
          "name": "stdout",
          "text": [
            "I like oranges. Apples are sweet.\n",
            "i like oranges. oranges are sweet.\n"
          ]
        }
      ]
    },
    {
      "cell_type": "code",
      "source": [
        "# @title partition()\n",
        "email = \"shivani@iit.com\"\n",
        "print(email.partition(\"@\"))  # ('shivani', '@', 'iit.com')"
      ],
      "metadata": {
        "id": "eeawldPPdZzF",
        "colab": {
          "base_uri": "https://localhost:8080/"
        },
        "outputId": "9c69cc01-3f96-4b41-9123-2c183eecf1d1"
      },
      "execution_count": null,
      "outputs": [
        {
          "output_type": "stream",
          "name": "stdout",
          "text": [
            "('shivani', '@', 'iit.com')\n"
          ]
        }
      ]
    },
    {
      "cell_type": "code",
      "source": [
        "\n",
        "# @title rpartition()\n",
        "print(email.rpartition(\".\"))  # ('shivani@iit', '.', 'com')"
      ],
      "metadata": {
        "id": "TQWwISxsdgvN",
        "colab": {
          "base_uri": "https://localhost:8080/"
        },
        "outputId": "fc3e80ae-5c48-4d8e-8375-a5331b698a67"
      },
      "execution_count": null,
      "outputs": [
        {
          "output_type": "stream",
          "name": "stdout",
          "text": [
            "('shivani@iit', '.', 'com')\n"
          ]
        }
      ]
    },
    {
      "cell_type": "code",
      "source": [
        "# @title translate()\n",
        "special = \"apple\"\n",
        "table = str.maketrans(\"ae\", \"12\")\n",
        "print(special.translate(table))  # '1ppl2'"
      ],
      "metadata": {
        "id": "W3_F-54Qdkz2",
        "colab": {
          "base_uri": "https://localhost:8080/"
        },
        "outputId": "7043087c-8af8-4579-d85e-8dcb61f887ae"
      },
      "execution_count": null,
      "outputs": [
        {
          "output_type": "stream",
          "name": "stdout",
          "text": [
            "1ppl2\n"
          ]
        }
      ]
    },
    {
      "cell_type": "code",
      "source": [
        "# @title encode()\n",
        "print(S.encode())  # b'shivani' → bytes"
      ],
      "metadata": {
        "id": "bCiUo7ERdltC",
        "colab": {
          "base_uri": "https://localhost:8080/"
        },
        "outputId": "27211db3-8aed-4a11-ee82-322a05506bc9"
      },
      "execution_count": null,
      "outputs": [
        {
          "output_type": "stream",
          "name": "stdout",
          "text": [
            "b'shivani'\n"
          ]
        }
      ]
    },
    {
      "cell_type": "code",
      "source": [
        "# @title expandtabs()\n",
        "S_with_tab = \"shivani\\trox\"\n",
        "print(S_with_tab.expandtabs(4))  # 'shivani    rox'"
      ],
      "metadata": {
        "id": "g-5TvvcWdq6a",
        "colab": {
          "base_uri": "https://localhost:8080/"
        },
        "outputId": "2e406b8b-d32c-41eb-d77c-05060062f745"
      },
      "execution_count": null,
      "outputs": [
        {
          "output_type": "stream",
          "name": "stdout",
          "text": [
            "shivani rox\n"
          ]
        }
      ]
    },
    {
      "cell_type": "code",
      "source": [
        "# @title isprintable()\n",
        "print(\"Hello!\".isprintable())  # True\n",
        "print(\"Hello\\nWorld\".isprintable())  # False"
      ],
      "metadata": {
        "id": "npnIl-kMdtej",
        "colab": {
          "base_uri": "https://localhost:8080/"
        },
        "outputId": "d269fbe4-926d-48c9-cbc1-2a599f4f8c11"
      },
      "execution_count": null,
      "outputs": [
        {
          "output_type": "stream",
          "name": "stdout",
          "text": [
            "True\n",
            "False\n"
          ]
        }
      ]
    },
    {
      "cell_type": "code",
      "source": [
        "# @title isspace()\n",
        "only_spaces = \" \\t\\n\"\n",
        "print(only_spaces.isspace())  # True"
      ],
      "metadata": {
        "id": "SENJEMYYdusj",
        "colab": {
          "base_uri": "https://localhost:8080/"
        },
        "outputId": "749e55c7-9f0d-4ffa-d5bd-8e9525f7d63a"
      },
      "execution_count": null,
      "outputs": [
        {
          "output_type": "stream",
          "name": "stdout",
          "text": [
            "True\n"
          ]
        }
      ]
    },
    {
      "cell_type": "code",
      "source": [
        "# @title removeprefix()\n",
        "filename = \"file_123.txt\"\n",
        "print(filename.removeprefix(\"file_\"))  # '123.txt'"
      ],
      "metadata": {
        "id": "auUQ1C8Dd5X1",
        "colab": {
          "base_uri": "https://localhost:8080/"
        },
        "outputId": "bb2fa0d8-dadb-45f1-fc04-3c6fe1c1acf8"
      },
      "execution_count": null,
      "outputs": [
        {
          "output_type": "stream",
          "name": "stdout",
          "text": [
            "123.txt\n"
          ]
        }
      ]
    },
    {
      "cell_type": "code",
      "source": [
        "\n",
        "# @title removesuffix()\n",
        "url = \"index.html\"\n",
        "print(url.removesuffix(\".html\"))  # 'index'"
      ],
      "metadata": {
        "id": "YwQRyUrrd8EI",
        "colab": {
          "base_uri": "https://localhost:8080/"
        },
        "outputId": "b5bc44fc-90e3-48b2-a3e0-3c75f825e635"
      },
      "execution_count": null,
      "outputs": [
        {
          "output_type": "stream",
          "name": "stdout",
          "text": [
            "index\n"
          ]
        }
      ]
    }
  ]
}