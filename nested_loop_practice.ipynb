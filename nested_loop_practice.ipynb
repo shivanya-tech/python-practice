{
  "cells": [
    {
      "cell_type": "markdown",
      "metadata": {
        "id": "view-in-github",
        "colab_type": "text"
      },
      "source": [
        "<a href=\"https://colab.research.google.com/github/shivanya-tech/python-practice/blob/main/nested_loop_practice.ipynb\" target=\"_parent\"><img src=\"https://colab.research.google.com/assets/colab-badge.svg\" alt=\"Open In Colab\"/></a>"
      ]
    },
    {
      "cell_type": "markdown",
      "id": "186d5f4e",
      "metadata": {
        "id": "186d5f4e"
      },
      "source": [
        "# 🔁 Nested Loop Practice in Python\n",
        "\n",
        "This notebook contains a collection of examples using **nested `for` loops** in Python.\n",
        "Each code cell demonstrates how inner and outer loops work together to solve problems like:\n",
        "\n",
        "- Printing patterns\n",
        "- Multiplication tables\n",
        "- Pascal's triangle\n",
        "- Identity and checkerboard matrices\n",
        "- Pairwise comparisons\n",
        "\n",
        "Practice these to strengthen your loop logic!\n"
      ]
    },
    {
      "cell_type": "code",
      "execution_count": null,
      "id": "41f1ae6c",
      "metadata": {
        "id": "41f1ae6c"
      },
      "outputs": [],
      "source": [
        "# 🔁 Nested loop: Print pattern of stars\n",
        "rows = 5\n",
        "for i in range(1, rows + 1):\n",
        "    for j in range(i):\n",
        "        print(\"*\", end=\"\")\n",
        "    print()\n"
      ]
    },
    {
      "cell_type": "code",
      "execution_count": null,
      "id": "cbf59fa4",
      "metadata": {
        "id": "cbf59fa4"
      },
      "outputs": [],
      "source": [
        "# 🔁 Nested loop: Multiplication table from 1 to 5\n",
        "for i in range(1, 6):\n",
        "    for j in range(1, 11):\n",
        "        print(f\"{i} x {j} = {i * j}\", end=\"\\t\")\n",
        "    print()\n"
      ]
    },
    {
      "cell_type": "code",
      "execution_count": null,
      "id": "a1b1929f",
      "metadata": {
        "id": "a1b1929f"
      },
      "outputs": [],
      "source": [
        "# 🔁 Nested loop: Print square pattern of numbers\n",
        "n = 4\n",
        "for i in range(1, n + 1):\n",
        "    for j in range(1, n + 1):\n",
        "        print(j, end=\" \")\n",
        "    print()\n"
      ]
    },
    {
      "cell_type": "code",
      "execution_count": null,
      "id": "51fc9a09",
      "metadata": {
        "id": "51fc9a09"
      },
      "outputs": [],
      "source": [
        "# 🔁 Nested loop: Print right-aligned triangle\n",
        "rows = 5\n",
        "for i in range(1, rows + 1):\n",
        "    for j in range(rows - i):\n",
        "        print(\" \", end=\"\")\n",
        "    for k in range(i):\n",
        "        print(\"*\", end=\"\")\n",
        "    print()\n"
      ]
    },
    {
      "cell_type": "code",
      "execution_count": null,
      "id": "5e506cf9",
      "metadata": {
        "id": "5e506cf9"
      },
      "outputs": [],
      "source": [
        "# 🔁 Nested loop: Print multiplication matrix\n",
        "size = 5\n",
        "for i in range(1, size + 1):\n",
        "    for j in range(1, size + 1):\n",
        "        print(f\"{i*j:2}\", end=\" \")\n",
        "    print()\n"
      ]
    },
    {
      "cell_type": "code",
      "execution_count": null,
      "id": "073f1660",
      "metadata": {
        "id": "073f1660"
      },
      "outputs": [],
      "source": [
        "# 🔁 Nested loop: Pascal's Triangle\n",
        "rows = 5\n",
        "for i in range(rows):\n",
        "    num = 1\n",
        "    print(\" \" * (rows - i), end=\"\")\n",
        "    for j in range(i + 1):\n",
        "        print(num, end=\" \")\n",
        "        num = num * (i - j) // (j + 1)\n",
        "    print()\n"
      ]
    },
    {
      "cell_type": "code",
      "execution_count": null,
      "id": "219f81a2",
      "metadata": {
        "id": "219f81a2"
      },
      "outputs": [],
      "source": [
        "# 🔁 Nested loop: Generate coordinate pairs (x, y)\n",
        "for x in range(3):\n",
        "    for y in range(3):\n",
        "        print(f\"({x},{y})\", end=\" \")\n",
        "    print()\n"
      ]
    },
    {
      "cell_type": "code",
      "execution_count": null,
      "id": "e08f4a03",
      "metadata": {
        "id": "e08f4a03"
      },
      "outputs": [],
      "source": [
        "# 🔁 Nested loop: Create identity matrix\n",
        "size = 4\n",
        "for i in range(size):\n",
        "    for j in range(size):\n",
        "        if i == j:\n",
        "            print(\"1\", end=\" \")\n",
        "        else:\n",
        "            print(\"0\", end=\" \")\n",
        "    print()\n"
      ]
    },
    {
      "cell_type": "code",
      "execution_count": null,
      "id": "42d72459",
      "metadata": {
        "id": "42d72459"
      },
      "outputs": [],
      "source": [
        "# 🔁 Nested loop: Print checkerboard pattern\n",
        "rows, cols = 5, 5\n",
        "for i in range(rows):\n",
        "    for j in range(cols):\n",
        "        if (i + j) % 2 == 0:\n",
        "            print(\"X\", end=\" \")\n",
        "        else:\n",
        "            print(\"O\", end=\" \")\n",
        "    print()\n"
      ]
    },
    {
      "cell_type": "code",
      "execution_count": null,
      "id": "71e1f90e",
      "metadata": {
        "id": "71e1f90e"
      },
      "outputs": [],
      "source": [
        "# 🔁 Nested loop: Find pairs in list with sum equal to target\n",
        "l = [2, 4, 3, 5, 7]\n",
        "target = 9\n",
        "for i in range(len(l)):\n",
        "    for j in range(i + 1, len(l)):\n",
        "        if l[i] + l[j] == target:\n",
        "            print(f\"Pair found: ({l[i]}, {l[j]})\")\n"
      ]
    }
  ],
  "metadata": {
    "colab": {
      "provenance": [],
      "include_colab_link": true
    }
  },
  "nbformat": 4,
  "nbformat_minor": 5
}