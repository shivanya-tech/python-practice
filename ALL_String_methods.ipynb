{
  "nbformat": 4,
  "nbformat_minor": 0,
  "metadata": {
    "colab": {
      "provenance": [],
      "authorship_tag": "ABX9TyPyqXReHRJkca2Wgx3n+s69",
      "include_colab_link": true
    },
    "kernelspec": {
      "name": "python3",
      "display_name": "Python 3"
    },
    "language_info": {
      "name": "python"
    }
  },
  "cells": [
    {
      "cell_type": "markdown",
      "metadata": {
        "id": "view-in-github",
        "colab_type": "text"
      },
      "source": [
        "<a href=\"https://colab.research.google.com/github/shivanya-tech/python-practice/blob/main/ALL_String_methods.ipynb\" target=\"_parent\"><img src=\"https://colab.research.google.com/assets/colab-badge.svg\" alt=\"Open In Colab\"/></a>"
      ]
    },
    {
      "cell_type": "markdown",
      "source": [
        "# 🔠 Python String Methods Notebook\n",
        "\n",
        "✅ This notebook showcases **40+ string methods** in Python.  \n",
        "Each method is:\n",
        "\n",
        "- 💡 Separated into individual cells using `# @title`\n",
        "- 🧪 Demonstrated with a code example and explanation\n",
        "- 📘 Useful for learning, revision, or interviews\n",
        "\n",
        "**How to Use:**\n",
        "- ▶️ Run each cell to see output\n",
        "- 📝 Modify inputs to explore behavior\n",
        "- 🧠 Use this notebook as a reference for common string operations\n"
      ],
      "metadata": {
        "id": "IFzbXRz7ekcw"
      }
    },
    {
      "cell_type": "code",
      "source": [
        "# @title capitalize()\n",
        "S = \"shivani\"\n",
        "print(S.capitalize())  # Shivani → Capitalizes first letter and converts the rest of the letters in each word to lowercase.\n",
        "\n",
        "text = \"pYTHON is AwEsoMe\"\n",
        "print(text.capitalize())\n"
      ],
      "metadata": {
        "id": "vJpYZCKIbA3z",
        "outputId": "2c455065-1200-4940-ee95-308b6e5ad7bf",
        "colab": {
          "base_uri": "https://localhost:8080/"
        }
      },
      "execution_count": 24,
      "outputs": [
        {
          "output_type": "stream",
          "name": "stdout",
          "text": [
            "Shivani\n",
            "Python is awesome\n"
          ]
        }
      ]
    },
    {
      "cell_type": "code",
      "source": [
        "# @title casefold()\n",
        "print(S.casefold())  # shivani → Aggressive lowercase for comparisons\n",
        "\n",
        "text1 = \"straße\"      # German word for \"street\"\n",
        "text2 = \"STRASSE\"\n",
        "\n",
        "print(text1.casefold() == text2.casefold())\n"
      ],
      "metadata": {
        "colab": {
          "base_uri": "https://localhost:8080/"
        },
        "id": "Y9fKb4JdbDB8",
        "outputId": "15d99fb8-18a9-4e3f-f742-aea8f7ff7ca6"
      },
      "execution_count": 26,
      "outputs": [
        {
          "output_type": "stream",
          "name": "stdout",
          "text": [
            "shivani\n",
            "True\n"
          ]
        }
      ]
    },
    {
      "cell_type": "code",
      "source": [
        "# @title swapcase()\n",
        "print(S.swapcase())  # SHIVANI → Swaps lowercase to uppercase and vice versa\n",
        "name=\"RAJ\"\n",
        "print(name.swapcase())"
      ],
      "metadata": {
        "colab": {
          "base_uri": "https://localhost:8080/"
        },
        "id": "drxsRHGSbHl3",
        "outputId": "b5f12e03-dbe4-405a-ee7d-8b16c2175c0b"
      },
      "execution_count": 6,
      "outputs": [
        {
          "output_type": "stream",
          "name": "stdout",
          "text": [
            "SHIVANI\n",
            "raj\n"
          ]
        }
      ]
    },
    {
      "cell_type": "code",
      "source": [
        "# @title title()\n",
        "title_case = \"heLlo worLd\"\n",
        "print(title_case.title())  # Hello World → Capitalizes first letter of each word and converts the rest of the letters in each word to lowercase."
      ],
      "metadata": {
        "id": "4EHeJfiXbLyZ",
        "outputId": "878f1542-5460-4712-ea5d-40837b0fb5c3",
        "colab": {
          "base_uri": "https://localhost:8080/"
        }
      },
      "execution_count": 9,
      "outputs": [
        {
          "output_type": "stream",
          "name": "stdout",
          "text": [
            "Hello World\n"
          ]
        }
      ]
    },
    {
      "cell_type": "code",
      "source": [
        "# @title upper()\n",
        "print(S.upper())  # SHIVANI"
      ],
      "metadata": {
        "id": "opVi-r18bQF7"
      },
      "execution_count": null,
      "outputs": []
    },
    {
      "cell_type": "code",
      "source": [
        "# @title lower()\n",
        "print(S.lower())  # shivani"
      ],
      "metadata": {
        "id": "sLon8WFLbRMU",
        "outputId": "01c80946-64cd-4ce4-a74e-363083c5ef62",
        "colab": {
          "base_uri": "https://localhost:8080/"
        }
      },
      "execution_count": 10,
      "outputs": [
        {
          "output_type": "stream",
          "name": "stdout",
          "text": [
            "shivani\n"
          ]
        }
      ]
    },
    {
      "cell_type": "code",
      "source": [
        "# @title count()\n",
        "print(S.count(\"i\"))  # 2 → Number of times 'i' appears\n",
        "\n",
        "#string.count(substring, start=0, end=len(string))\n",
        "text = \"banana\"\n",
        "print(text.count(\"a\", 2, 6))  # checks \"nana\"\n",
        "print(text.count(\"a\", 4, 6))\n"
      ],
      "metadata": {
        "colab": {
          "base_uri": "https://localhost:8080/"
        },
        "id": "J9CVUr2qbVEY",
        "outputId": "7b7fe4e5-a906-404d-dc1e-e302cfc614bf"
      },
      "execution_count": 29,
      "outputs": [
        {
          "output_type": "stream",
          "name": "stdout",
          "text": [
            "2\n",
            "2\n",
            "1\n"
          ]
        }
      ]
    },
    {
      "cell_type": "code",
      "source": [
        "# @title find()\n",
        "#find() returns the first occurrence.\n",
        "\n",
        "print(S.find(\"i\"))  # 1 → First occurrence of 'i'"
      ],
      "metadata": {
        "id": "QEEM2dBBbZ5J"
      },
      "execution_count": null,
      "outputs": []
    },
    {
      "cell_type": "code",
      "source": [
        "# @title rfind()\n",
        "#rfind() returns the last occurrence.\n",
        "print(S.rfind(\"i\"))  # 6 → Last occurrence (right-side)\n",
        "print(S.rfind(\"L\")) #substring is not found, it returns -1.\n"
      ],
      "metadata": {
        "id": "P32t8JFUcFxK",
        "outputId": "965227cb-6b78-472b-91f9-4e36d88d3563",
        "colab": {
          "base_uri": "https://localhost:8080/"
        }
      },
      "execution_count": 11,
      "outputs": [
        {
          "output_type": "stream",
          "name": "stdout",
          "text": [
            "6\n",
            "-1\n"
          ]
        }
      ]
    },
    {
      "cell_type": "code",
      "source": [
        "# @title index()\n",
        "print(S.index(\"s\"))  # 0 → Index of 's' in the string S .\n",
        "\n",
        "text = \"hello world\"\n",
        "print(text.index(\"world\"))  # 6 → 'world' starts at index 6\n",
        "\n",
        "text = \"hello hello\"\n",
        "print(text.index(\"lo\", 5))  # 9 → 'lo' found in second 'hello', starting from index 5\n",
        "\n",
        "text = \"hello world\"\n",
        "print(text.index(\"Python\"))  # ValueError → 'Python' not found in the string\n",
        "\n"
      ],
      "metadata": {
        "id": "iWxZ5qkfcLDk"
      },
      "execution_count": null,
      "outputs": []
    },
    {
      "cell_type": "code",
      "source": [
        "# @title startswith()\n",
        "\n",
        "print(S.startswith(\"shi\"))  # True\n",
        "\n",
        "#Check with multiple options (tuple)\n",
        "url = \"https://amazon.com\"\n",
        "print(url.startswith((\"http://\", \"https://\")))\n",
        "\n",
        "#With start and end range\n",
        "text = \"hello world\"\n",
        "print(text.startswith(\"world\", 6))  # checks from index 6 onward\n",
        "\n",
        "\n",
        "\n",
        "\n",
        "\n"
      ],
      "metadata": {
        "id": "qzs0WfeccTLe"
      },
      "execution_count": null,
      "outputs": []
    },
    {
      "cell_type": "code",
      "source": [
        "# @title endswith()\n",
        "\n",
        "print(S.endswith(\"i\"))  # True\n",
        "\n",
        "#Check with multiple options (tuple)\n",
        "file = \"data.csv\"\n",
        "print(file.endswith((\".csv\", \".xlsx\")))\n",
        "\n",
        "#With a specific range\n",
        "#string.endswith(suffix, start=0, end=len(string))\n",
        "text = \"hello world\"\n",
        "print(text.endswith(\"lo\", 0, 5))  # checks \"hello\""
      ],
      "metadata": {
        "id": "Q4mqYlkHcVqA",
        "outputId": "c6b88fdd-f897-4049-be54-c8206d19ab4a",
        "colab": {
          "base_uri": "https://localhost:8080/"
        }
      },
      "execution_count": 18,
      "outputs": [
        {
          "output_type": "stream",
          "name": "stdout",
          "text": [
            "True\n",
            "True\n",
            "True\n"
          ]
        }
      ]
    },
    {
      "cell_type": "code",
      "source": [
        "# @title format()\n",
        "#syntax: \"string with {} placeholders\".format(values)\n",
        "\n",
        "print(\"Hello, {}\".format(\"Shivani\"))  # Hello, Shivani\n",
        "\n",
        "name = \"Alice\"\n",
        "age = 25\n",
        "print(\"Name: {}, Age: {}\".format(name, age))\n",
        "\n",
        "#index based\n",
        "print(\"First: {0}, Second: {1}, Again First: {0}\".format(\"A\", \"B\"))\n",
        "\n",
        "#name placeholders\n",
        "print(\"Name: {name}, Age: {age}\".format(name=\"Bob\", age=30))\n",
        "\n",
        "#formatting numbers\n",
        "price = 12.3456\n",
        "print(\"Price: {:.2f}\".format(price))  # 2 decimal places\n",
        "\n",
        "name = \"Alice\"\n",
        "print(f\"Hello, {name}!\")\n",
        "\n",
        "\n"
      ],
      "metadata": {
        "id": "m2KeA9NscYVj",
        "outputId": "3061b1b4-9656-414c-cca0-65911019886b",
        "colab": {
          "base_uri": "https://localhost:8080/"
        }
      },
      "execution_count": 17,
      "outputs": [
        {
          "output_type": "stream",
          "name": "stdout",
          "text": [
            "Hello, Shivani\n",
            "Name: Alice, Age: 25\n",
            "First: A, Second: B, Again First: A\n",
            "Name: Bob, Age: 30\n",
            "Price: 12.35\n",
            "Hello, Alice!\n"
          ]
        }
      ]
    },
    {
      "cell_type": "code",
      "source": [
        "# @title format_map()\n",
        "print(\"Name: {name}, Age: {age}\".format_map({\"name\": \"Shivani\", \"age\": 22}))\n"
      ],
      "metadata": {
        "id": "aS36dIFCccGp"
      },
      "execution_count": null,
      "outputs": []
    },
    {
      "cell_type": "code",
      "source": [
        "# @title split()\n",
        "#syntax :  string.split(separator, maxsplit)\n",
        "\n",
        "text = \"I love Python\" #default (split by whitespace)\n",
        "print(text.split())\n",
        "\n",
        "\n",
        "s2 = \"shiv,ani\"\n",
        "print(s2.split(\",\"))  # ['shiv', 'ani']\n",
        "\n",
        "text = \"one two three four\" #With maxsplit\n",
        "print(text.split(\" \", 2))\n"
      ],
      "metadata": {
        "id": "0xYTT6i1ceeQ",
        "outputId": "8b733183-75a3-41aa-d30f-ab437200a4a1",
        "colab": {
          "base_uri": "https://localhost:8080/"
        }
      },
      "execution_count": 13,
      "outputs": [
        {
          "output_type": "stream",
          "name": "stdout",
          "text": [
            "['I', 'love', 'Python']\n",
            "['shiv', 'ani']\n",
            "['one', 'two', 'three four']\n"
          ]
        }
      ]
    },
    {
      "cell_type": "code",
      "source": [
        "# @title splitlines()\n",
        "#syntax: string.splitlines(keepends=False)\n",
        "text = \"Hello\\nWorld\\r\\nPython\"\n",
        "print(text.splitlines(keepends=True))\n",
        "\n",
        "multi_line = \"Line1\\nLine2\\nLine3\"\n",
        "print(multi_line.splitlines())  # ['Line1', 'Line2', 'Line3']"
      ],
      "metadata": {
        "id": "m2kQL1bachW8",
        "outputId": "c1172b19-6d95-4814-e1b1-bc67eaf58ccd",
        "colab": {
          "base_uri": "https://localhost:8080/"
        }
      },
      "execution_count": 15,
      "outputs": [
        {
          "output_type": "stream",
          "name": "stdout",
          "text": [
            "['Hello\\n', 'World\\r\\n', 'Python']\n",
            "['Line1', 'Line2', 'Line3']\n"
          ]
        }
      ]
    },
    {
      "cell_type": "code",
      "source": [
        "# @title join()\n",
        "# syntax: separator.join(iterable)\n",
        "\n",
        "words = [\"Python\", \"is\", \"awesome\"]\n",
        "result = \" \".join(words)\n",
        "print(result)\n",
        "\n",
        "\n",
        "print(\"-\".join([\"shi\", \"va\", \"ni\"]))  # shi-va-ni\n",
        "\n",
        "#All elements in the iterable must be strings\n",
        "print(\" \".join(map(str, [1, 2, 3])))  # ✅ Output: \"1 2 3\"\n",
        "print(\" \".join([1, 2, 3]))  # ❌ TypeError\n",
        "\n",
        "\n"
      ],
      "metadata": {
        "id": "kzi9AJr9cke8",
        "outputId": "fe4b4fad-30f1-4257-94e9-495441659cbd",
        "colab": {
          "base_uri": "https://localhost:8080/",
          "height": 263
        }
      },
      "execution_count": 21,
      "outputs": [
        {
          "output_type": "stream",
          "name": "stdout",
          "text": [
            "Python is awesome\n",
            "shi-va-ni\n",
            "1 2 3\n"
          ]
        },
        {
          "output_type": "error",
          "ename": "TypeError",
          "evalue": "sequence item 0: expected str instance, int found",
          "traceback": [
            "\u001b[0;31m---------------------------------------------------------------------------\u001b[0m",
            "\u001b[0;31mTypeError\u001b[0m                                 Traceback (most recent call last)",
            "\u001b[0;32m<ipython-input-21-032e8280336f>\u001b[0m in \u001b[0;36m<cell line: 0>\u001b[0;34m()\u001b[0m\n\u001b[1;32m     11\u001b[0m \u001b[0;31m#All elements in the iterable must be strings\u001b[0m\u001b[0;34m\u001b[0m\u001b[0;34m\u001b[0m\u001b[0m\n\u001b[1;32m     12\u001b[0m \u001b[0mprint\u001b[0m\u001b[0;34m(\u001b[0m\u001b[0;34m\" \"\u001b[0m\u001b[0;34m.\u001b[0m\u001b[0mjoin\u001b[0m\u001b[0;34m(\u001b[0m\u001b[0mmap\u001b[0m\u001b[0;34m(\u001b[0m\u001b[0mstr\u001b[0m\u001b[0;34m,\u001b[0m \u001b[0;34m[\u001b[0m\u001b[0;36m1\u001b[0m\u001b[0;34m,\u001b[0m \u001b[0;36m2\u001b[0m\u001b[0;34m,\u001b[0m \u001b[0;36m3\u001b[0m\u001b[0;34m]\u001b[0m\u001b[0;34m)\u001b[0m\u001b[0;34m)\u001b[0m\u001b[0;34m)\u001b[0m  \u001b[0;31m# ✅ Output: \"1 2 3\"\u001b[0m\u001b[0;34m\u001b[0m\u001b[0;34m\u001b[0m\u001b[0m\n\u001b[0;32m---> 13\u001b[0;31m \u001b[0mprint\u001b[0m\u001b[0;34m(\u001b[0m\u001b[0;34m\" \"\u001b[0m\u001b[0;34m.\u001b[0m\u001b[0mjoin\u001b[0m\u001b[0;34m(\u001b[0m\u001b[0;34m[\u001b[0m\u001b[0;36m1\u001b[0m\u001b[0;34m,\u001b[0m \u001b[0;36m2\u001b[0m\u001b[0;34m,\u001b[0m \u001b[0;36m3\u001b[0m\u001b[0;34m]\u001b[0m\u001b[0;34m)\u001b[0m\u001b[0;34m)\u001b[0m  \u001b[0;31m# ❌ TypeError\u001b[0m\u001b[0;34m\u001b[0m\u001b[0;34m\u001b[0m\u001b[0m\n\u001b[0m\u001b[1;32m     14\u001b[0m \u001b[0;34m\u001b[0m\u001b[0m\n\u001b[1;32m     15\u001b[0m \u001b[0;34m\u001b[0m\u001b[0m\n",
            "\u001b[0;31mTypeError\u001b[0m: sequence item 0: expected str instance, int found"
          ]
        }
      ]
    },
    {
      "cell_type": "code",
      "source": [
        "# @title center()\n",
        "\n",
        "text = \"hello\"\n",
        "print(text.center(11))  # '   hello   '\n"
      ],
      "metadata": {
        "id": "KZT10SP2cmtF",
        "outputId": "4f2e0424-2f39-463d-da36-8249c9855857",
        "colab": {
          "base_uri": "https://localhost:8080/"
        }
      },
      "execution_count": 22,
      "outputs": [
        {
          "output_type": "stream",
          "name": "stdout",
          "text": [
            "   hello   \n"
          ]
        }
      ]
    },
    {
      "cell_type": "code",
      "source": [
        "\n",
        "# @title center(fill)\n",
        "print(text.center(11, '-'))  # '---hello---'"
      ],
      "metadata": {
        "id": "8NCf2rR7cqVO",
        "outputId": "83c56461-2c59-480f-a1fe-952993cc4c43",
        "colab": {
          "base_uri": "https://localhost:8080/"
        }
      },
      "execution_count": 23,
      "outputs": [
        {
          "output_type": "stream",
          "name": "stdout",
          "text": [
            "---hello---\n"
          ]
        }
      ]
    },
    {
      "cell_type": "code",
      "source": [
        "# @title rjust()\n",
        "print(text.rjust(8, '0'))  # '000hello'\n"
      ],
      "metadata": {
        "id": "BXuBcn8Actst"
      },
      "execution_count": null,
      "outputs": []
    },
    {
      "cell_type": "code",
      "source": [
        "# @title ljust()\n",
        "print(text.ljust(8, '*'))  # 'hello***'"
      ],
      "metadata": {
        "id": "BpBmNwBMcyXG"
      },
      "execution_count": null,
      "outputs": []
    },
    {
      "cell_type": "code",
      "source": [
        "# @title zfill()\n",
        "print(\"42\".zfill(5))  # '00042'"
      ],
      "metadata": {
        "id": "7OZtBgfzc09q"
      },
      "execution_count": null,
      "outputs": []
    },
    {
      "cell_type": "code",
      "source": [
        "\n",
        "# @title isalnum()\n",
        "print(S.isalnum())  # True"
      ],
      "metadata": {
        "id": "7QAtgwCKc2Qf"
      },
      "execution_count": null,
      "outputs": []
    },
    {
      "cell_type": "code",
      "source": [
        "# @title isalpha()\n",
        "print(S.isalpha())  # True"
      ],
      "metadata": {
        "id": "FlP_9Sm-c7x6"
      },
      "execution_count": null,
      "outputs": []
    },
    {
      "cell_type": "code",
      "source": [
        "# @title isdecimal()\n",
        "digits = \"12345\"\n",
        "print(digits.isdecimal())  # True"
      ],
      "metadata": {
        "id": "igIeAnJXc927"
      },
      "execution_count": null,
      "outputs": []
    },
    {
      "cell_type": "code",
      "source": [
        "# @title isdigit()\n",
        "print(digits.isdigit())  # True"
      ],
      "metadata": {
        "id": "USOvPCpgdE-7"
      },
      "execution_count": null,
      "outputs": []
    },
    {
      "cell_type": "code",
      "source": [
        "# @title isascii()\n",
        "print(S.isascii())  # True"
      ],
      "metadata": {
        "id": "2iWTzl2QdHRS"
      },
      "execution_count": null,
      "outputs": []
    },
    {
      "cell_type": "code",
      "source": [
        "# @title isupper()\n",
        "print(S.isupper())  # False\n"
      ],
      "metadata": {
        "id": "qE_JeZBjdKG4"
      },
      "execution_count": null,
      "outputs": []
    },
    {
      "cell_type": "code",
      "source": [
        "\n",
        "# @title isidentifier()\n",
        "identifier = \"my_var\"\n",
        "not_identifier = \"123abc\"\n",
        "print(identifier.isidentifier())  # True\n",
        "print(not_identifier.isidentifier())  # False"
      ],
      "metadata": {
        "id": "xnQn-LdMdM-0"
      },
      "execution_count": null,
      "outputs": []
    },
    {
      "cell_type": "code",
      "source": [
        "# @title strip()\n",
        "space_text = \"   hello   \"\n",
        "print(space_text.strip())  # 'hello'"
      ],
      "metadata": {
        "id": "YrWZvrDudUDU"
      },
      "execution_count": null,
      "outputs": []
    },
    {
      "cell_type": "code",
      "source": [
        "\n",
        "# @title lstrip()\n",
        "print(space_text.lstrip())  # 'hello   '"
      ],
      "metadata": {
        "id": "Ms7Tvs-qdVV-"
      },
      "execution_count": null,
      "outputs": []
    },
    {
      "cell_type": "code",
      "source": [
        "# @title rstrip()\n",
        "print(space_text.rstrip())  # '   hello'"
      ],
      "metadata": {
        "id": "oupuBp24dX1r"
      },
      "execution_count": null,
      "outputs": []
    },
    {
      "cell_type": "code",
      "source": [
        "# @title partition()\n",
        "email = \"shivani@iit.com\"\n",
        "print(email.partition(\"@\"))  # ('shivani', '@', 'iit.com')"
      ],
      "metadata": {
        "id": "eeawldPPdZzF"
      },
      "execution_count": null,
      "outputs": []
    },
    {
      "cell_type": "code",
      "source": [
        "\n",
        "# @title rpartition()\n",
        "print(email.rpartition(\".\"))  # ('shivani@iit', '.', 'com')"
      ],
      "metadata": {
        "id": "TQWwISxsdgvN"
      },
      "execution_count": null,
      "outputs": []
    },
    {
      "cell_type": "code",
      "source": [
        "# @title translate()\n",
        "special = \"apple\"\n",
        "table = str.maketrans(\"ae\", \"12\")\n",
        "print(special.translate(table))  # '1ppl2'"
      ],
      "metadata": {
        "id": "W3_F-54Qdkz2"
      },
      "execution_count": null,
      "outputs": []
    },
    {
      "cell_type": "code",
      "source": [
        "# @title encode()\n",
        "print(S.encode())  # b'shivani' → bytes"
      ],
      "metadata": {
        "id": "bCiUo7ERdltC"
      },
      "execution_count": null,
      "outputs": []
    },
    {
      "cell_type": "code",
      "source": [
        "# @title expandtabs()\n",
        "S_with_tab = \"shivani\\trox\"\n",
        "print(S_with_tab.expandtabs(4))  # 'shivani    rox'"
      ],
      "metadata": {
        "id": "g-5TvvcWdq6a"
      },
      "execution_count": null,
      "outputs": []
    },
    {
      "cell_type": "code",
      "source": [
        "# @title isprintable()\n",
        "print(\"Hello!\".isprintable())  # True\n",
        "print(\"Hello\\nWorld\".isprintable())  # False"
      ],
      "metadata": {
        "id": "npnIl-kMdtej"
      },
      "execution_count": null,
      "outputs": []
    },
    {
      "cell_type": "code",
      "source": [
        "# @title isspace()\n",
        "only_spaces = \" \\t\\n\"\n",
        "print(only_spaces.isspace())  # True"
      ],
      "metadata": {
        "id": "SENJEMYYdusj"
      },
      "execution_count": null,
      "outputs": []
    },
    {
      "cell_type": "code",
      "source": [
        "# @title removeprefix()\n",
        "filename = \"file_123.txt\"\n",
        "print(filename.removeprefix(\"file_\"))  # '123.txt'"
      ],
      "metadata": {
        "id": "auUQ1C8Dd5X1"
      },
      "execution_count": null,
      "outputs": []
    },
    {
      "cell_type": "code",
      "source": [
        "\n",
        "# @title removesuffix()\n",
        "url = \"index.html\"\n",
        "print(url.removesuffix(\".html\"))  # 'index'"
      ],
      "metadata": {
        "id": "YwQRyUrrd8EI"
      },
      "execution_count": null,
      "outputs": []
    },
    {
      "cell_type": "code",
      "source": [
        "# @title replace()\n",
        "quote = \"I like apples. Apples are sweet.\"\n",
        "print(quote.replace(\"apples\", \"oranges\"))  # 'I like oranges. Apples are sweet.'\n",
        "print(quote.lower().replace(\"apples\", \"oranges\"))  # 'i like oranges. oranges are sweet.'"
      ],
      "metadata": {
        "colab": {
          "base_uri": "https://localhost:8080/"
        },
        "id": "vO7SxzjQd-yk",
        "outputId": "978b2d1f-6a43-4ec9-9755-9c4a7ab757b0"
      },
      "execution_count": null,
      "outputs": [
        {
          "output_type": "stream",
          "name": "stdout",
          "text": [
            "I like oranges. Apples are sweet.\n",
            "i like oranges. oranges are sweet.\n"
          ]
        }
      ]
    }
  ]
}