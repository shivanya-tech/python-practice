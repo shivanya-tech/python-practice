{
  "nbformat": 4,
  "nbformat_minor": 0,
  "metadata": {
    "colab": {
      "provenance": [],
      "authorship_tag": "ABX9TyPvxGDEJpFOKeeRxaopJOqH",
      "include_colab_link": true
    },
    "kernelspec": {
      "name": "python3",
      "display_name": "Python 3"
    },
    "language_info": {
      "name": "python"
    }
  },
  "cells": [
    {
      "cell_type": "markdown",
      "metadata": {
        "id": "view-in-github",
        "colab_type": "text"
      },
      "source": [
        "<a href=\"https://colab.research.google.com/github/shivanya-tech/python-practice/blob/main/ALL_tuples_methods.ipynb\" target=\"_parent\"><img src=\"https://colab.research.google.com/assets/colab-badge.svg\" alt=\"Open In Colab\"/></a>"
      ]
    },
    {
      "cell_type": "markdown",
      "source": [
        "\"\"\"\n",
        "# 📘 Python Tuple Methods Notebook\n",
        "\n",
        "Tuples are immutable sequences in Python. While they support fewer methods compared to lists or sets,\n",
        "they are widely used for fixed collections of items.\n",
        "\n",
        "✅ This notebook covers all valid tuple methods and related operations.\n",
        "\n",
        "**Usage Tip:**\n",
        "- ▶️ Run each cell to explore tuple behavior\n",
        "- ❌ Tuples do not support item assignment or modification\n",
        "\"\"\""
      ],
      "metadata": {
        "id": "R7l2DIp-omzu"
      }
    },
    {
      "cell_type": "code",
      "execution_count": null,
      "metadata": {
        "id": "Qw6mIEnzokC5"
      },
      "outputs": [],
      "source": [
        "# @title count()\n",
        "t = (1, 2, 3, 2, 4, 2)\n",
        "print(t.count(2))  # Output: 3\n"
      ]
    },
    {
      "cell_type": "code",
      "source": [
        "# @title index()\n",
        "t = (1, 2, 3, 4)\n",
        "print(t.index(3))  # Output: 2"
      ],
      "metadata": {
        "id": "r_oll8qPo2ac",
        "outputId": "24891149-5f6a-4d4c-b9ce-a827cf5ede00",
        "colab": {
          "base_uri": "https://localhost:8080/"
        }
      },
      "execution_count": null,
      "outputs": [
        {
          "output_type": "stream",
          "name": "stdout",
          "text": [
            "2\n"
          ]
        }
      ]
    },
    {
      "cell_type": "code",
      "source": [
        "# @title Tuple unpacking\n",
        "t = (100, 200, 300)\n",
        "a, b, c = t\n",
        "print(a, b, c)  # Output: 100 200 300\n"
      ],
      "metadata": {
        "id": "kI7XO2gTpBRD"
      },
      "execution_count": null,
      "outputs": []
    },
    {
      "cell_type": "code",
      "source": [
        "# @title len() on tuple\n",
        "t = (10, 20, 30)\n",
        "print(len(t))  # Output: 3"
      ],
      "metadata": {
        "id": "In4cS2a9o5-j"
      },
      "execution_count": null,
      "outputs": []
    },
    {
      "cell_type": "code",
      "source": [
        "# @title Membership check\n",
        "t = (\"apple\", \"banana\")\n",
        "print(\"apple\" in t)   # True\n",
        "print(\"cherry\" in t)  # False"
      ],
      "metadata": {
        "id": "3LOg37pjpDOE"
      },
      "execution_count": null,
      "outputs": []
    },
    {
      "cell_type": "code",
      "source": [
        "# @title Tuple concatenation\n",
        "t1 = (1, 2)\n",
        "t2 = (3, 4)\n",
        "t3 = t1 + t2\n",
        "print(t3)  # Output: (1, 2, 3, 4)\n"
      ],
      "metadata": {
        "id": "b_eRpYorpEBX"
      },
      "execution_count": null,
      "outputs": []
    },
    {
      "cell_type": "code",
      "source": [
        "# @title Tuple repetition\n",
        "t = (\"a\", \"b\")\n",
        "print(t * 3)  # Output: ('a', 'b', 'a', 'b', 'a', 'b')"
      ],
      "metadata": {
        "id": "BcM8coUrpHqw"
      },
      "execution_count": null,
      "outputs": []
    },
    {
      "cell_type": "code",
      "source": [
        "# @title min() and max() with tuple\n",
        "nums = (5, 1, 9, 3)\n",
        "print(min(nums))  # Output: 1\n",
        "print(max(nums))  # Output: 9"
      ],
      "metadata": {
        "id": "BjXsD6g1pJm-"
      },
      "execution_count": null,
      "outputs": []
    },
    {
      "cell_type": "code",
      "source": [
        "# @title Conversion: list to tuple , string to tuple\n",
        "\n",
        "l = [1, 2, 3]\n",
        "t = tuple(l)\n",
        "print(t)\n",
        "\n",
        "\n",
        "s = \"hello\"\n",
        "t = tuple(s)\n",
        "print(t)  # ('h', 'e', 'l', 'l', 'o')"
      ],
      "metadata": {
        "id": "sY7yOmMOpMmG",
        "outputId": "f0b9da10-e8f9-43d2-e578-4bc95cab04f7",
        "colab": {
          "base_uri": "https://localhost:8080/"
        }
      },
      "execution_count": null,
      "outputs": [
        {
          "output_type": "stream",
          "name": "stdout",
          "text": [
            "(1, 2, 3)\n",
            "('h', 'e', 'l', 'l', 'o')\n"
          ]
        }
      ]
    }
  ]
}