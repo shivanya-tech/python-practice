{
  "cells": [
    {
      "cell_type": "markdown",
      "metadata": {
        "id": "view-in-github",
        "colab_type": "text"
      },
      "source": [
        "<a href=\"https://colab.research.google.com/github/shivanya-tech/python-practice/blob/main/for_loop_practice.ipynb\" target=\"_parent\"><img src=\"https://colab.research.google.com/assets/colab-badge.svg\" alt=\"Open In Colab\"/></a>"
      ]
    },
    {
      "cell_type": "markdown",
      "id": "a112459d",
      "metadata": {
        "id": "a112459d"
      },
      "source": [
        "# 🔁 For Loop Practice in Python\n",
        "\n",
        "This notebook contains a collection of examples using `for` loops in Python.\n",
        "Each code cell demonstrates a specific use case such as:\n",
        "\n",
        "- Iterating over lists and strings\n",
        "- Mathematical operations\n",
        "- Pattern printing\n",
        "- Fibonacci, factorial, power, GCD, Armstrong number\n",
        "\n",
        "Use this for hands-on `for` loop mastery!\n"
      ]
    },
    {
      "cell_type": "code",
      "execution_count": null,
      "id": "5e820edf",
      "metadata": {
        "id": "5e820edf"
      },
      "outputs": [],
      "source": [
        "# 🔁 Print list elements using for loop\n",
        "l = [1, 4, 6, 8, 9]\n",
        "for item in l:\n",
        "    print(item)\n"
      ]
    },
    {
      "cell_type": "code",
      "execution_count": null,
      "id": "5a9267e4",
      "metadata": {
        "id": "5a9267e4"
      },
      "outputs": [],
      "source": [
        "# 🔍 Find a number in list using for loop\n",
        "l = [1, 4, 6, 8, 9]\n",
        "v = 40\n",
        "for item in l:\n",
        "    if item == v:\n",
        "        print(\"found\")\n",
        "        break\n",
        "else:\n",
        "    print(\"not found\")\n"
      ]
    },
    {
      "cell_type": "code",
      "execution_count": null,
      "id": "6ef2cef4",
      "metadata": {
        "id": "6ef2cef4"
      },
      "outputs": [],
      "source": [
        "# 🔁 Practice: Sum of first N numbers\n",
        "n = int(input(\"Enter a number: \"))\n",
        "total = 0\n",
        "for i in range(1, n + 1):\n",
        "    total += i\n",
        "print(\"Sum is:\", total)\n"
      ]
    },
    {
      "cell_type": "code",
      "execution_count": null,
      "id": "a4a15199",
      "metadata": {
        "id": "a4a15199"
      },
      "outputs": [],
      "source": [
        "# 🔁 Practice: Guess the secret number (fixed number of chances)\n",
        "secret = 7\n",
        "for _ in range(5):\n",
        "    guess = int(input(\"Guess the number: \"))\n",
        "    if guess == secret:\n",
        "        print(\"You guessed it right!\")\n",
        "        break\n",
        "    else:\n",
        "        print(\"Wrong! Try again.\")\n"
      ]
    },
    {
      "cell_type": "code",
      "execution_count": null,
      "id": "499cec57",
      "metadata": {
        "id": "499cec57"
      },
      "outputs": [],
      "source": [
        "# 🔁 Reverse a string using for loop\n",
        "s = \"hello\"\n",
        "reversed_str = \"\"\n",
        "for char in s:\n",
        "    reversed_str = char + reversed_str\n",
        "print(\"Reversed string:\", reversed_str)\n"
      ]
    },
    {
      "cell_type": "code",
      "execution_count": null,
      "id": "ad5c6b40",
      "metadata": {
        "id": "ad5c6b40"
      },
      "outputs": [],
      "source": [
        "# 🔁 Factorial using for loop\n",
        "n = 5\n",
        "fact = 1\n",
        "for i in range(1, n + 1):\n",
        "    fact *= i\n",
        "print(\"Factorial:\", fact)\n"
      ]
    },
    {
      "cell_type": "code",
      "execution_count": null,
      "id": "63383c61",
      "metadata": {
        "id": "63383c61"
      },
      "outputs": [],
      "source": [
        "# 🔁 Even numbers from 1 to 10 using for loop\n",
        "for i in range(1, 11):\n",
        "    if i % 2 == 0:\n",
        "        print(i, end=\" \")\n"
      ]
    },
    {
      "cell_type": "code",
      "execution_count": null,
      "id": "44f973cf",
      "metadata": {
        "id": "44f973cf"
      },
      "outputs": [],
      "source": [
        "# 🔁 Count digits in a number using for loop\n",
        "num = 123456\n",
        "count = 0\n",
        "for _ in str(num):\n",
        "    count += 1\n",
        "print(\"\\nTotal digits:\", count)\n"
      ]
    },
    {
      "cell_type": "code",
      "execution_count": null,
      "id": "2fafd614",
      "metadata": {
        "id": "2fafd614"
      },
      "outputs": [],
      "source": [
        "# 🔁 Palindrome check using for loop\n",
        "num = 121\n",
        "rev = \"\"\n",
        "for ch in str(num):\n",
        "    rev = ch + rev\n",
        "print(\"Palindrome:\", str(num) == rev)\n"
      ]
    },
    {
      "cell_type": "code",
      "execution_count": null,
      "id": "d9a18fa7",
      "metadata": {
        "id": "d9a18fa7"
      },
      "outputs": [],
      "source": [
        "# 🔁 Multiplication table of a number using for loop\n",
        "n = 7\n",
        "for i in range(1, 11):\n",
        "    print(f\"{n} x {i} = {n*i}\")\n"
      ]
    },
    {
      "cell_type": "code",
      "execution_count": null,
      "id": "5aa0513f",
      "metadata": {
        "id": "5aa0513f"
      },
      "outputs": [],
      "source": [
        "# 🔁 GCD using Euclidean Algorithm (while preferred, for shown for syntax)\n",
        "a, b = 36, 60\n",
        "for _ in range(100):  # limit iterations\n",
        "    if b == 0:\n",
        "        break\n",
        "    a, b = b, a % b\n",
        "print(\"GCD is:\", a)\n"
      ]
    },
    {
      "cell_type": "code",
      "execution_count": null,
      "id": "ec51460d",
      "metadata": {
        "id": "ec51460d"
      },
      "outputs": [],
      "source": [
        "# 🔁 Fibonacci series up to N terms using for loop\n",
        "n = 10\n",
        "a, b = 0, 1\n",
        "for _ in range(n):\n",
        "    print(a, end=\" \")\n",
        "    a, b = b, a + b\n"
      ]
    },
    {
      "cell_type": "code",
      "execution_count": null,
      "id": "fe4304a2",
      "metadata": {
        "id": "fe4304a2"
      },
      "outputs": [],
      "source": [
        "# 🔁 Power using for loop (a^b)\n",
        "a = 2\n",
        "b = 5\n",
        "result = 1\n",
        "for _ in range(b):\n",
        "    result *= a\n",
        "print(\"Power:\", result)\n"
      ]
    },
    {
      "cell_type": "code",
      "execution_count": null,
      "id": "e7ff0a0c",
      "metadata": {
        "id": "e7ff0a0c"
      },
      "outputs": [],
      "source": [
        "# 🔁 Sum of digits of a number using for loop\n",
        "num = 9876\n",
        "total = 0\n",
        "for ch in str(num):\n",
        "    total += int(ch)\n",
        "print(\"Sum of digits:\", total)\n"
      ]
    },
    {
      "cell_type": "code",
      "execution_count": null,
      "id": "f068af4a",
      "metadata": {
        "id": "f068af4a"
      },
      "outputs": [],
      "source": [
        "# 🔁 Print pattern using for loop\n",
        "rows = 3\n",
        "for i in range(1, rows + 1):\n",
        "    print(\"*\" * i)\n"
      ]
    },
    {
      "cell_type": "code",
      "execution_count": null,
      "id": "a30d7780",
      "metadata": {
        "id": "a30d7780"
      },
      "outputs": [],
      "source": [
        "# 🔁 Armstrong number (3-digit)\n",
        "num = 153\n",
        "sum_of_cubes = 0\n",
        "for digit in str(num):\n",
        "    sum_of_cubes += int(digit) ** 3\n",
        "print(\"Armstrong:\", num == sum_of_cubes)\n"
      ]
    }
  ],
  "metadata": {
    "colab": {
      "provenance": [],
      "include_colab_link": true
    }
  },
  "nbformat": 4,
  "nbformat_minor": 5
}