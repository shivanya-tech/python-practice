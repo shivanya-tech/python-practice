{
  "nbformat": 4,
  "nbformat_minor": 0,
  "metadata": {
    "colab": {
      "provenance": [],
      "authorship_tag": "ABX9TyOMHw4eT38HgC7uX08OvYyB",
      "include_colab_link": true
    },
    "kernelspec": {
      "name": "python3",
      "display_name": "Python 3"
    },
    "language_info": {
      "name": "python"
    }
  },
  "cells": [
    {
      "cell_type": "markdown",
      "metadata": {
        "id": "view-in-github",
        "colab_type": "text"
      },
      "source": [
        "<a href=\"https://colab.research.google.com/github/shivanya-tech/python-practice/blob/main/All_List_methods.ipynb\" target=\"_parent\"><img src=\"https://colab.research.google.com/assets/colab-badge.svg\" alt=\"Open In Colab\"/></a>"
      ]
    },
    {
      "cell_type": "markdown",
      "source": [
        "\"\"\"\n",
        "# 🔢 Python List Methods Notebook\n",
        "\n",
        "✅ This notebook demonstrates 15+ list methods in Python.\n",
        "Each method is:\n",
        "\n",
        "- 💡 Explained with a simple code example\n",
        "- 🧪 Run individually using `# @title` headers\n",
        "- 🧠 Great for learning or interview prep\n",
        "\n",
        "**How to Use:**\n",
        "- ▶️ Run each cell to see what it does\n",
        "- 📝 Modify the list to try variations\n",
        "\"\"\""
      ],
      "metadata": {
        "id": "UQAKxsnehMaI"
      }
    },
    {
      "cell_type": "code",
      "source": [
        "# @title append()\n",
        "my_list = [1, 2, 3]\n",
        "my_list.append(4)\n",
        "print(my_list)  # [1, 2, 3, 4]"
      ],
      "metadata": {
        "colab": {
          "base_uri": "https://localhost:8080/"
        },
        "id": "lu0wowqVhPzj",
        "outputId": "cf4d59ec-961f-4cbf-9aca-ad60de3da91e"
      },
      "execution_count": null,
      "outputs": [
        {
          "output_type": "stream",
          "name": "stdout",
          "text": [
            "[1, 2, 3, 4]\n"
          ]
        }
      ]
    },
    {
      "cell_type": "code",
      "source": [
        "# @title extend()\n",
        "my_list = [1, 2, 3]\n",
        "my_list.extend([4, 5])\n",
        "print(my_list)  # [1, 2, 3, 4, 5]"
      ],
      "metadata": {
        "id": "xD2n3s3xhawK"
      },
      "execution_count": null,
      "outputs": []
    },
    {
      "cell_type": "code",
      "source": [
        "# @title insert()\n",
        "my_list = [1, 3, 4]\n",
        "my_list.insert(1, 2)\n",
        "print(my_list)  # [1, 2, 3, 4]"
      ],
      "metadata": {
        "colab": {
          "base_uri": "https://localhost:8080/"
        },
        "id": "TAFYEk7ghcLg",
        "outputId": "606a9d72-7da0-44a8-90a5-ffb5eb202574"
      },
      "execution_count": null,
      "outputs": [
        {
          "output_type": "stream",
          "name": "stdout",
          "text": [
            "[1, 2, 3, 4]\n"
          ]
        }
      ]
    },
    {
      "cell_type": "code",
      "source": [
        "# @title remove()\n",
        "my_list = [1, 2, 3, 2]\n",
        "my_list.remove(2)\n",
        "print(my_list)  # [1, 3, 2]\n"
      ],
      "metadata": {
        "id": "-NR6KhDyhe6d"
      },
      "execution_count": null,
      "outputs": []
    },
    {
      "cell_type": "code",
      "source": [
        "\n",
        "# @title pop()\n",
        "my_list = [10, 20, 30]\n",
        "value = my_list.pop()\n",
        "print(value)     # 30\n",
        "print(my_list)   # [10, 20]"
      ],
      "metadata": {
        "id": "oyqDjdPuhiIx"
      },
      "execution_count": null,
      "outputs": []
    },
    {
      "cell_type": "code",
      "source": [
        "# @title clear()\n",
        "my_list = [1, 2, 3]\n",
        "my_list.clear()\n",
        "print(my_list)  # []"
      ],
      "metadata": {
        "id": "rsVvEf9Fhmbl"
      },
      "execution_count": null,
      "outputs": []
    },
    {
      "cell_type": "code",
      "source": [
        "\n",
        "# @title index()\n",
        "my_list = [10, 20, 30]\n",
        "print(my_list.index(20))  # 1"
      ],
      "metadata": {
        "id": "qZ8B9r1XhnSv"
      },
      "execution_count": null,
      "outputs": []
    },
    {
      "cell_type": "code",
      "source": [
        "# @title count()\n",
        "my_list = [1, 2, 2, 3]\n",
        "print(my_list.count(2))  # 2"
      ],
      "metadata": {
        "id": "d91zNPRUhp2c"
      },
      "execution_count": null,
      "outputs": []
    },
    {
      "cell_type": "code",
      "source": [
        "# @title sort()\n",
        "my_list = [3, 1, 4, 2]\n",
        "my_list.sort()\n",
        "print(my_list)  # [1, 2, 3, 4]"
      ],
      "metadata": {
        "id": "VoLe_zkjhtVt"
      },
      "execution_count": null,
      "outputs": []
    },
    {
      "cell_type": "code",
      "source": [
        "# @title reverse()\n",
        "my_list = [1, 2, 3]\n",
        "my_list.reverse()\n",
        "print(my_list)  # [3, 2, 1]\n"
      ],
      "metadata": {
        "id": "aU8ADb-VhxQ7"
      },
      "execution_count": null,
      "outputs": []
    },
    {
      "cell_type": "code",
      "source": [
        "# @title copy()\n",
        "original = [1, 2, 3]\n",
        "copy = original.copy()\n",
        "print(copy)  # [1, 2, 3]"
      ],
      "metadata": {
        "id": "Njy1jpWvh-Kg"
      },
      "execution_count": null,
      "outputs": []
    },
    {
      "cell_type": "code",
      "source": [
        "# @title len() on list\n",
        "my_list = [10, 20, 30]\n",
        "print(len(my_list))  # 3"
      ],
      "metadata": {
        "id": "e5hPUrFYiBRD"
      },
      "execution_count": null,
      "outputs": []
    },
    {
      "cell_type": "code",
      "source": [
        "# @title sum() on list\n",
        "my_list = [1, 2, 3]\n",
        "print(sum(my_list))  # 6"
      ],
      "metadata": {
        "colab": {
          "base_uri": "https://localhost:8080/"
        },
        "id": "D1urGb2KiDvN",
        "outputId": "ff2c8f49-7f0a-4edc-e886-272d4bb1ea55"
      },
      "execution_count": null,
      "outputs": [
        {
          "output_type": "stream",
          "name": "stdout",
          "text": [
            "6\n"
          ]
        }
      ]
    },
    {
      "cell_type": "code",
      "source": [
        "# @title max() and min()\n",
        "my_list = [5, 2, 9]\n",
        "print(max(my_list))  # 9\n",
        "print(min(my_list))  # 2"
      ],
      "metadata": {
        "colab": {
          "base_uri": "https://localhost:8080/"
        },
        "id": "ASvp7OrWiGnh",
        "outputId": "35338e61-2262-4b52-82e7-085927c7352b"
      },
      "execution_count": null,
      "outputs": [
        {
          "output_type": "stream",
          "name": "stdout",
          "text": [
            "9\n",
            "2\n"
          ]
        }
      ]
    }
  ]
}