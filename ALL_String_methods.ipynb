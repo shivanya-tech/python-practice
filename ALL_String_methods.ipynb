{
  "nbformat": 4,
  "nbformat_minor": 0,
  "metadata": {
    "colab": {
      "provenance": [],
      "authorship_tag": "ABX9TyO1CD3hoBqL2F/S6UxnPOse",
      "include_colab_link": true
    },
    "kernelspec": {
      "name": "python3",
      "display_name": "Python 3"
    },
    "language_info": {
      "name": "python"
    }
  },
  "cells": [
    {
      "cell_type": "markdown",
      "metadata": {
        "id": "view-in-github",
        "colab_type": "text"
      },
      "source": [
        "<a href=\"https://colab.research.google.com/github/shivanya-tech/python-practice/blob/main/ALL_String_methods.ipynb\" target=\"_parent\"><img src=\"https://colab.research.google.com/assets/colab-badge.svg\" alt=\"Open In Colab\"/></a>"
      ]
    },
    {
      "cell_type": "markdown",
      "source": [
        "# 🔠 Python String Methods Notebook\n",
        "\n",
        "✅ This notebook showcases **40+ string methods** in Python.  \n",
        "Each method is:\n",
        "\n",
        "- 💡 Separated into individual cells using `# @title`\n",
        "- 🧪 Demonstrated with a code example and explanation\n",
        "- 📘 Useful for learning, revision, or interviews\n",
        "\n",
        "**How to Use:**\n",
        "- ▶️ Run each cell to see output\n",
        "- 📝 Modify inputs to explore behavior\n",
        "- 🧠 Use this notebook as a reference for common string operations\n"
      ],
      "metadata": {
        "id": "IFzbXRz7ekcw"
      }
    },
    {
      "cell_type": "code",
      "source": [
        "# @title capitalize()\n",
        "S = \"shivani\"\n",
        "print(S.capitalize())  # Shivani → Capitalizes first letter"
      ],
      "metadata": {
        "id": "vJpYZCKIbA3z"
      },
      "execution_count": null,
      "outputs": []
    },
    {
      "cell_type": "code",
      "source": [
        "# @title casefold()\n",
        "print(S.casefold())  # shivani → Aggressive lowercase for comparisons"
      ],
      "metadata": {
        "colab": {
          "base_uri": "https://localhost:8080/"
        },
        "id": "Y9fKb4JdbDB8",
        "outputId": "edb844a1-3bc9-4058-d94f-42a2974343b1"
      },
      "execution_count": null,
      "outputs": [
        {
          "output_type": "stream",
          "name": "stdout",
          "text": [
            "shivani\n"
          ]
        }
      ]
    },
    {
      "cell_type": "code",
      "source": [
        "# @title swapcase()\n",
        "print(S.swapcase())  # SHIVANI → Swaps lowercase to uppercase and vice versa"
      ],
      "metadata": {
        "colab": {
          "base_uri": "https://localhost:8080/"
        },
        "id": "drxsRHGSbHl3",
        "outputId": "9b8cb93e-147a-41f6-8349-6b8651599807"
      },
      "execution_count": null,
      "outputs": [
        {
          "output_type": "stream",
          "name": "stdout",
          "text": [
            "SHIVANI\n"
          ]
        }
      ]
    },
    {
      "cell_type": "code",
      "source": [
        "# @title title()\n",
        "title_case = \"hello world\"\n",
        "print(title_case.title())  # Hello World → Capitalizes each word"
      ],
      "metadata": {
        "id": "4EHeJfiXbLyZ"
      },
      "execution_count": null,
      "outputs": []
    },
    {
      "cell_type": "code",
      "source": [
        "# @title upper()\n",
        "print(S.upper())  # SHIVANI"
      ],
      "metadata": {
        "id": "opVi-r18bQF7"
      },
      "execution_count": null,
      "outputs": []
    },
    {
      "cell_type": "code",
      "source": [
        "# @title lower()\n",
        "print(S.lower())  # shivani"
      ],
      "metadata": {
        "id": "sLon8WFLbRMU"
      },
      "execution_count": null,
      "outputs": []
    },
    {
      "cell_type": "code",
      "source": [
        "# @title count()\n",
        "print(S.count(\"i\"))  # 2 → Number of times 'i' appears"
      ],
      "metadata": {
        "colab": {
          "base_uri": "https://localhost:8080/"
        },
        "id": "J9CVUr2qbVEY",
        "outputId": "98b913c2-8782-4652-ae47-a7306a0e1f2d"
      },
      "execution_count": null,
      "outputs": [
        {
          "output_type": "stream",
          "name": "stdout",
          "text": [
            "2\n"
          ]
        }
      ]
    },
    {
      "cell_type": "code",
      "source": [
        "# @title find()\n",
        "print(S.find(\"i\"))  # 1 → First occurrence of 'i'"
      ],
      "metadata": {
        "id": "QEEM2dBBbZ5J"
      },
      "execution_count": null,
      "outputs": []
    },
    {
      "cell_type": "code",
      "source": [
        "# @title rfind()\n",
        "print(S.rfind(\"i\"))  # 6 → Last occurrence (right-side)\n"
      ],
      "metadata": {
        "id": "P32t8JFUcFxK"
      },
      "execution_count": null,
      "outputs": []
    },
    {
      "cell_type": "code",
      "source": [
        "# @title index()\n",
        "print(S.index(\"s\"))  # 0 → Index of 's'"
      ],
      "metadata": {
        "id": "iWxZ5qkfcLDk"
      },
      "execution_count": null,
      "outputs": []
    },
    {
      "cell_type": "code",
      "source": [
        "# @title startswith()\n",
        "print(S.startswith(\"shi\"))  # True\n"
      ],
      "metadata": {
        "id": "qzs0WfeccTLe"
      },
      "execution_count": null,
      "outputs": []
    },
    {
      "cell_type": "code",
      "source": [
        "# @title endswith()\n",
        "print(S.endswith(\"i\"))  # True"
      ],
      "metadata": {
        "id": "Q4mqYlkHcVqA"
      },
      "execution_count": null,
      "outputs": []
    },
    {
      "cell_type": "code",
      "source": [
        "# @title format()\n",
        "print(\"Hello, {}\".format(\"Shivani\"))  # Hello, Shivani"
      ],
      "metadata": {
        "id": "m2KeA9NscYVj"
      },
      "execution_count": null,
      "outputs": []
    },
    {
      "cell_type": "code",
      "source": [
        "# @title format_map()\n",
        "print(\"Name: {name}, Age: {age}\".format_map({\"name\": \"Shivani\", \"age\": 22}))\n"
      ],
      "metadata": {
        "id": "aS36dIFCccGp"
      },
      "execution_count": null,
      "outputs": []
    },
    {
      "cell_type": "code",
      "source": [
        "# @title split()\n",
        "s2 = \"shiv,ani\"\n",
        "print(s2.split(\",\"))  # ['shiv', 'ani']"
      ],
      "metadata": {
        "id": "0xYTT6i1ceeQ"
      },
      "execution_count": null,
      "outputs": []
    },
    {
      "cell_type": "code",
      "source": [
        "# @title splitlines()\n",
        "multi_line = \"Line1\\nLine2\\nLine3\"\n",
        "print(multi_line.splitlines())  # ['Line1', 'Line2', 'Line3']"
      ],
      "metadata": {
        "id": "m2kQL1bachW8"
      },
      "execution_count": null,
      "outputs": []
    },
    {
      "cell_type": "code",
      "source": [
        "# @title join()\n",
        "print(\"-\".join([\"shi\", \"va\", \"ni\"]))  # shi-va-ni\n"
      ],
      "metadata": {
        "id": "kzi9AJr9cke8"
      },
      "execution_count": null,
      "outputs": []
    },
    {
      "cell_type": "code",
      "source": [
        "# @title center()\n",
        "text = \"hello\"\n",
        "print(text.center(11))  # '   hello   '"
      ],
      "metadata": {
        "id": "KZT10SP2cmtF"
      },
      "execution_count": null,
      "outputs": []
    },
    {
      "cell_type": "code",
      "source": [
        "\n",
        "# @title center(fill)\n",
        "print(text.center(11, '-'))  # '---hello---'"
      ],
      "metadata": {
        "id": "8NCf2rR7cqVO"
      },
      "execution_count": null,
      "outputs": []
    },
    {
      "cell_type": "code",
      "source": [
        "# @title rjust()\n",
        "print(text.rjust(8, '0'))  # '000hello'\n"
      ],
      "metadata": {
        "id": "BXuBcn8Actst"
      },
      "execution_count": null,
      "outputs": []
    },
    {
      "cell_type": "code",
      "source": [
        "# @title ljust()\n",
        "print(text.ljust(8, '*'))  # 'hello***'"
      ],
      "metadata": {
        "id": "BpBmNwBMcyXG"
      },
      "execution_count": null,
      "outputs": []
    },
    {
      "cell_type": "code",
      "source": [
        "# @title zfill()\n",
        "print(\"42\".zfill(5))  # '00042'"
      ],
      "metadata": {
        "id": "7OZtBgfzc09q"
      },
      "execution_count": null,
      "outputs": []
    },
    {
      "cell_type": "code",
      "source": [
        "\n",
        "# @title isalnum()\n",
        "print(S.isalnum())  # True"
      ],
      "metadata": {
        "id": "7QAtgwCKc2Qf"
      },
      "execution_count": null,
      "outputs": []
    },
    {
      "cell_type": "code",
      "source": [
        "# @title isalpha()\n",
        "print(S.isalpha())  # True"
      ],
      "metadata": {
        "id": "FlP_9Sm-c7x6"
      },
      "execution_count": null,
      "outputs": []
    },
    {
      "cell_type": "code",
      "source": [
        "# @title isdecimal()\n",
        "digits = \"12345\"\n",
        "print(digits.isdecimal())  # True"
      ],
      "metadata": {
        "id": "igIeAnJXc927"
      },
      "execution_count": null,
      "outputs": []
    },
    {
      "cell_type": "code",
      "source": [
        "# @title isdigit()\n",
        "print(digits.isdigit())  # True"
      ],
      "metadata": {
        "id": "USOvPCpgdE-7"
      },
      "execution_count": null,
      "outputs": []
    },
    {
      "cell_type": "code",
      "source": [
        "# @title isascii()\n",
        "print(S.isascii())  # True"
      ],
      "metadata": {
        "id": "2iWTzl2QdHRS"
      },
      "execution_count": null,
      "outputs": []
    },
    {
      "cell_type": "code",
      "source": [
        "# @title isupper()\n",
        "print(S.isupper())  # False\n"
      ],
      "metadata": {
        "id": "qE_JeZBjdKG4"
      },
      "execution_count": null,
      "outputs": []
    },
    {
      "cell_type": "code",
      "source": [
        "\n",
        "# @title isidentifier()\n",
        "identifier = \"my_var\"\n",
        "not_identifier = \"123abc\"\n",
        "print(identifier.isidentifier())  # True\n",
        "print(not_identifier.isidentifier())  # False"
      ],
      "metadata": {
        "id": "xnQn-LdMdM-0"
      },
      "execution_count": null,
      "outputs": []
    },
    {
      "cell_type": "code",
      "source": [
        "# @title strip()\n",
        "space_text = \"   hello   \"\n",
        "print(space_text.strip())  # 'hello'"
      ],
      "metadata": {
        "id": "YrWZvrDudUDU"
      },
      "execution_count": null,
      "outputs": []
    },
    {
      "cell_type": "code",
      "source": [
        "\n",
        "# @title lstrip()\n",
        "print(space_text.lstrip())  # 'hello   '"
      ],
      "metadata": {
        "id": "Ms7Tvs-qdVV-"
      },
      "execution_count": null,
      "outputs": []
    },
    {
      "cell_type": "code",
      "source": [
        "# @title rstrip()\n",
        "print(space_text.rstrip())  # '   hello'"
      ],
      "metadata": {
        "id": "oupuBp24dX1r"
      },
      "execution_count": null,
      "outputs": []
    },
    {
      "cell_type": "code",
      "source": [
        "# @title partition()\n",
        "email = \"shivani@iit.com\"\n",
        "print(email.partition(\"@\"))  # ('shivani', '@', 'iit.com')"
      ],
      "metadata": {
        "id": "eeawldPPdZzF"
      },
      "execution_count": null,
      "outputs": []
    },
    {
      "cell_type": "code",
      "source": [
        "\n",
        "# @title rpartition()\n",
        "print(email.rpartition(\".\"))  # ('shivani@iit', '.', 'com')"
      ],
      "metadata": {
        "id": "TQWwISxsdgvN"
      },
      "execution_count": null,
      "outputs": []
    },
    {
      "cell_type": "code",
      "source": [
        "# @title translate()\n",
        "special = \"apple\"\n",
        "table = str.maketrans(\"ae\", \"12\")\n",
        "print(special.translate(table))  # '1ppl2'"
      ],
      "metadata": {
        "id": "W3_F-54Qdkz2"
      },
      "execution_count": null,
      "outputs": []
    },
    {
      "cell_type": "code",
      "source": [
        "# @title encode()\n",
        "print(S.encode())  # b'shivani' → bytes"
      ],
      "metadata": {
        "id": "bCiUo7ERdltC"
      },
      "execution_count": null,
      "outputs": []
    },
    {
      "cell_type": "code",
      "source": [
        "# @title expandtabs()\n",
        "S_with_tab = \"shivani\\trox\"\n",
        "print(S_with_tab.expandtabs(4))  # 'shivani    rox'"
      ],
      "metadata": {
        "id": "g-5TvvcWdq6a"
      },
      "execution_count": null,
      "outputs": []
    },
    {
      "cell_type": "code",
      "source": [
        "# @title isprintable()\n",
        "print(\"Hello!\".isprintable())  # True\n",
        "print(\"Hello\\nWorld\".isprintable())  # False"
      ],
      "metadata": {
        "id": "npnIl-kMdtej"
      },
      "execution_count": null,
      "outputs": []
    },
    {
      "cell_type": "code",
      "source": [
        "# @title isspace()\n",
        "only_spaces = \" \\t\\n\"\n",
        "print(only_spaces.isspace())  # True"
      ],
      "metadata": {
        "id": "SENJEMYYdusj"
      },
      "execution_count": null,
      "outputs": []
    },
    {
      "cell_type": "code",
      "source": [
        "# @title removeprefix()\n",
        "filename = \"file_123.txt\"\n",
        "print(filename.removeprefix(\"file_\"))  # '123.txt'"
      ],
      "metadata": {
        "id": "auUQ1C8Dd5X1"
      },
      "execution_count": null,
      "outputs": []
    },
    {
      "cell_type": "code",
      "source": [
        "\n",
        "# @title removesuffix()\n",
        "url = \"index.html\"\n",
        "print(url.removesuffix(\".html\"))  # 'index'"
      ],
      "metadata": {
        "id": "YwQRyUrrd8EI"
      },
      "execution_count": null,
      "outputs": []
    },
    {
      "cell_type": "code",
      "source": [
        "# @title replace()\n",
        "quote = \"I like apples. Apples are sweet.\"\n",
        "print(quote.replace(\"apples\", \"oranges\"))  # 'I like oranges. Apples are sweet.'\n",
        "print(quote.lower().replace(\"apples\", \"oranges\"))  # 'i like oranges. oranges are sweet.'"
      ],
      "metadata": {
        "colab": {
          "base_uri": "https://localhost:8080/"
        },
        "id": "vO7SxzjQd-yk",
        "outputId": "978b2d1f-6a43-4ec9-9755-9c4a7ab757b0"
      },
      "execution_count": null,
      "outputs": [
        {
          "output_type": "stream",
          "name": "stdout",
          "text": [
            "I like oranges. Apples are sweet.\n",
            "i like oranges. oranges are sweet.\n"
          ]
        }
      ]
    }
  ]
}