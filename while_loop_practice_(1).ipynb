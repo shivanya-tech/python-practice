{
  "cells": [
    {
      "cell_type": "markdown",
      "metadata": {
        "id": "view-in-github",
        "colab_type": "text"
      },
      "source": [
        "<a href=\"https://colab.research.google.com/github/shivanya-tech/python-practice/blob/main/while_loop_practice_(1).ipynb\" target=\"_parent\"><img src=\"https://colab.research.google.com/assets/colab-badge.svg\" alt=\"Open In Colab\"/></a>"
      ]
    },
    {
      "cell_type": "markdown",
      "id": "f4f7764a",
      "metadata": {
        "id": "f4f7764a"
      },
      "source": [
        "# 🔁 While Loop Practice in Python\n",
        "\n",
        "This notebook contains multiple examples and practice problems using `while` loops in Python.\n",
        "Each cell demonstrates a specific concept or task, including:\n",
        "\n",
        "- Printing elements of a list\n",
        "- Searching within a list\n",
        "- Summing numbers\n",
        "- Reversing numbers\n",
        "- Guessing games\n",
        "- Patterns, factorial, palindrome, Fibonacci, and more\n",
        "\n",
        "Use this notebook to understand and strengthen your fundamentals of `while` loops through hands-on practice.\n"
      ]
    },
    {
      "cell_type": "code",
      "execution_count": 1,
      "id": "7e3ced40",
      "metadata": {
        "colab": {
          "base_uri": "https://localhost:8080/"
        },
        "id": "7e3ced40",
        "outputId": "26e9488b-ae75-4d27-b096-8d070f2134f2"
      },
      "outputs": [
        {
          "output_type": "stream",
          "name": "stdout",
          "text": [
            "1\n",
            "4\n",
            "6\n",
            "8\n",
            "9\n"
          ]
        }
      ],
      "source": [
        "# 🔁 Print the list elements using while loop\n",
        "i = 0\n",
        "l = [1, 4, 6, 8, 9]\n",
        "while i != len(l):\n",
        "    print(l[i])\n",
        "    i += 1"
      ]
    },
    {
      "cell_type": "code",
      "execution_count": 2,
      "id": "cf96c4a6",
      "metadata": {
        "colab": {
          "base_uri": "https://localhost:8080/"
        },
        "id": "cf96c4a6",
        "outputId": "9d4a81ba-9f14-4e9b-8106-1302aed03dd6"
      },
      "outputs": [
        {
          "output_type": "stream",
          "name": "stdout",
          "text": [
            "not found\n"
          ]
        }
      ],
      "source": [
        "# 🔁 Find a number in list using while loop\n",
        "l = [1, 4, 6, 8, 9]\n",
        "v = 40\n",
        "i = 0\n",
        "while i != len(l):\n",
        "    if l[i] == v:\n",
        "        print(\"found\")\n",
        "        break\n",
        "    i += 1\n",
        "else:\n",
        "    print(\"not found\")"
      ]
    },
    {
      "cell_type": "code",
      "execution_count": 3,
      "id": "6944444e",
      "metadata": {
        "colab": {
          "base_uri": "https://localhost:8080/"
        },
        "id": "6944444e",
        "outputId": "533009d8-e153-4127-d525-cc18e5ecb66f"
      },
      "outputs": [
        {
          "output_type": "stream",
          "name": "stdout",
          "text": [
            "Enter a number: 3\n",
            "Sum is: 6\n"
          ]
        }
      ],
      "source": [
        "# 🔁 Practice 2: Sum of first N numbers\n",
        "n = int(input(\"Enter a number: \"))\n",
        "total = 0\n",
        "i = 1\n",
        "while i <= n:\n",
        "    total += i\n",
        "    i += 1\n",
        "print(\"Sum is:\", total)"
      ]
    },
    {
      "cell_type": "code",
      "execution_count": null,
      "id": "17779c05",
      "metadata": {
        "id": "17779c05"
      },
      "outputs": [],
      "source": [
        "# 🔁 Practice 3: Guess the secret number\n",
        "secret = 7\n",
        "guess = -1\n",
        "\n",
        "while guess != secret:\n",
        "    guess = int(input(\"Guess the number: \"))\n",
        "    if guess != secret:\n",
        "        print(\"Wrong! Try again.\")\n",
        "\n",
        "print(\"You guessed it right!\")"
      ]
    },
    {
      "cell_type": "code",
      "execution_count": 4,
      "id": "ee25ae62",
      "metadata": {
        "colab": {
          "base_uri": "https://localhost:8080/"
        },
        "id": "ee25ae62",
        "outputId": "b2db0d65-b0f7-4302-9973-d9b3cbf7628e"
      },
      "outputs": [
        {
          "output_type": "stream",
          "name": "stdout",
          "text": [
            "Enter a number: 56\n",
            "Reversed number: 65\n"
          ]
        }
      ],
      "source": [
        "# 🔁 Practice 4: Reverse a number\n",
        "num = int(input(\"Enter a number: \"))\n",
        "rev = 0\n",
        "\n",
        "while num > 0:\n",
        "    digit = num % 10\n",
        "    rev = rev * 10 + digit\n",
        "    num = num // 10\n",
        "\n",
        "print(\"Reversed number:\", rev)"
      ]
    },
    {
      "cell_type": "code",
      "execution_count": null,
      "id": "93a8e2ca",
      "metadata": {
        "id": "93a8e2ca"
      },
      "outputs": [],
      "source": [
        "# 🔁 While True loop with break\n",
        "i = 1\n",
        "while True:\n",
        "    if i > 5:\n",
        "        break\n",
        "    print(i)\n",
        "    i += 1"
      ]
    },
    {
      "cell_type": "code",
      "execution_count": null,
      "id": "485dd706",
      "metadata": {
        "id": "485dd706"
      },
      "outputs": [],
      "source": [
        "# 🔁 Use continue to skip number 3\n",
        "i = 0\n",
        "while i < 5:\n",
        "    i += 1\n",
        "    if i == 3:\n",
        "        continue\n",
        "    print(f\"it will skip 3{i}\")"
      ]
    },
    {
      "cell_type": "code",
      "execution_count": null,
      "id": "330db75b",
      "metadata": {
        "id": "330db75b"
      },
      "outputs": [],
      "source": [
        "# 🔁 Find factorial\n",
        "n = 5\n",
        "fact = 1\n",
        "while n > 0:\n",
        "    fact *= n\n",
        "    n -= 1\n",
        "print(\"Factorial:\", fact)"
      ]
    },
    {
      "cell_type": "code",
      "execution_count": null,
      "id": "184aa3a6",
      "metadata": {
        "id": "184aa3a6"
      },
      "outputs": [],
      "source": [
        "# 🔁 Print even numbers from 1 to 10\n",
        "i = 1\n",
        "while i <= 10:\n",
        "    if i % 2 == 0:\n",
        "        print(i, end=\" \")\n",
        "    i += 1\n",
        "print(\"\\n\" + \"-\" * 30)"
      ]
    },
    {
      "cell_type": "code",
      "execution_count": null,
      "id": "05611684",
      "metadata": {
        "id": "05611684"
      },
      "outputs": [],
      "source": [
        "# 🔁 Count digits in a number\n",
        "num = 123456\n",
        "count = 0\n",
        "while num > 0:\n",
        "    count += 1\n",
        "    num //= 10\n",
        "print(\"Total digits:\", count)\n",
        "print(\"-\" * 30)"
      ]
    },
    {
      "cell_type": "code",
      "execution_count": null,
      "id": "873528bf",
      "metadata": {
        "id": "873528bf"
      },
      "outputs": [],
      "source": [
        "# 🔁 Check if a number is palindrome\n",
        "num = 121\n",
        "temp = num\n",
        "rev = 0\n",
        "while num > 0:\n",
        "    rev = rev * 10 + num % 10\n",
        "    num //= 10\n",
        "print(\"Palindrome:\", temp == rev)\n",
        "print(\"-\" * 30)"
      ]
    },
    {
      "cell_type": "code",
      "execution_count": null,
      "id": "32a7cbaf",
      "metadata": {
        "id": "32a7cbaf"
      },
      "outputs": [],
      "source": [
        "# 🔁 Print multiplication table of a number\n",
        "n = 7\n",
        "i = 1\n",
        "while i <= 10:\n",
        "    print(f\"{n} x {i} = {n*i}\")\n",
        "    i += 1\n",
        "print(\"-\" * 30)"
      ]
    },
    {
      "cell_type": "code",
      "execution_count": null,
      "id": "46d89fa9",
      "metadata": {
        "id": "46d89fa9"
      },
      "outputs": [],
      "source": [
        "# 🔁 Find GCD of two numbers\n",
        "a = 36\n",
        "b = 60\n",
        "while b != 0:\n",
        "    a, b = b, a % b\n",
        "print(\"GCD is:\", a)\n",
        "print(\"-\" * 30)"
      ]
    },
    {
      "cell_type": "code",
      "execution_count": null,
      "id": "09affdef",
      "metadata": {
        "id": "09affdef"
      },
      "outputs": [],
      "source": [
        "# 🔁 Fibonacci series up to N terms\n",
        "n = 10\n",
        "a, b = 0, 1\n",
        "count = 0\n",
        "while count < n:\n",
        "    print(a, end=\" \")\n",
        "    a, b = b, a + b\n",
        "    count += 1\n",
        "print(\"\\n\" + \"-\" * 30)"
      ]
    },
    {
      "cell_type": "code",
      "execution_count": null,
      "id": "ad9a1ffa",
      "metadata": {
        "id": "ad9a1ffa"
      },
      "outputs": [],
      "source": [
        "# 🔁 Find power using while loop (a^b)\n",
        "a = 2\n",
        "b = 5\n",
        "result = 1\n",
        "while b > 0:\n",
        "    result *= a\n",
        "    b -= 1\n",
        "print(\"Power:\", result)\n",
        "print(\"-\" * 30)"
      ]
    },
    {
      "cell_type": "code",
      "execution_count": null,
      "id": "ccb84a62",
      "metadata": {
        "id": "ccb84a62"
      },
      "outputs": [],
      "source": [
        "# 🔁 Sum of digits of a number\n",
        "num = 9876\n",
        "total = 0\n",
        "while num > 0:\n",
        "    total += num % 10\n",
        "    num //= 10\n",
        "print(\"Sum of digits:\", total)\n",
        "print(\"-\" * 30)"
      ]
    },
    {
      "cell_type": "code",
      "execution_count": null,
      "id": "5e7a81fb",
      "metadata": {
        "id": "5e7a81fb"
      },
      "outputs": [],
      "source": [
        "# 🔁 Print pattern using while loop\n",
        "rows = 3\n",
        "i = 1\n",
        "while i <= rows:\n",
        "    print(\"*\" * i)\n",
        "    i += 1\n",
        "print(\"-\" * 30)"
      ]
    },
    {
      "cell_type": "code",
      "execution_count": null,
      "id": "7aeee9b2",
      "metadata": {
        "id": "7aeee9b2"
      },
      "outputs": [],
      "source": [
        "# 🔁 Armstrong number (3-digit only)\n",
        "num = 153\n",
        "temp = num\n",
        "sum_of_cubes = 0\n",
        "while num > 0:\n",
        "    digit = num % 10\n",
        "    sum_of_cubes += digit ** 3\n",
        "    num //= 10\n",
        "print(\"Armstrong:\", temp == sum_of_cubes)"
      ]
    },
    {
      "cell_type": "markdown",
      "source": [
        "\n",
        "\n"
      ],
      "metadata": {
        "id": "dOOZyq_AORdz"
      },
      "id": "dOOZyq_AORdz"
    },
    {
      "cell_type": "code",
      "source": [
        "#@title Nested while loops (for complex patterns):\n",
        "i = 1\n",
        "while i <= 5:\n",
        "    j = 1\n",
        "    while j <= i:\n",
        "        print(\"*\", end=\"\")\n",
        "        j += 1\n",
        "    print()\n",
        "    i += 1"
      ],
      "metadata": {
        "id": "uuXBFpfmO5_2"
      },
      "id": "uuXBFpfmO5_2",
      "execution_count": null,
      "outputs": []
    },
    {
      "cell_type": "code",
      "source": [
        "#@title Menu-driven programs using while True\n",
        "while True:\n",
        "    print(\"1. Add\\n2. Subtract\\n3. Exit\")\n",
        "    choice = int(input(\"Choose: \"))\n",
        "    if choice == 3:\n",
        "        break\n"
      ],
      "metadata": {
        "colab": {
          "base_uri": "https://localhost:8080/"
        },
        "id": "c4kSoperPJIP",
        "outputId": "c5cb23c8-35b8-45f5-89db-be7e30eb5103"
      },
      "id": "c4kSoperPJIP",
      "execution_count": 5,
      "outputs": [
        {
          "name": "stdout",
          "output_type": "stream",
          "text": [
            "1. Add\n",
            "2. Subtract\n",
            "3. Exit\n",
            "Choose: 2\n",
            "1. Add\n",
            "2. Subtract\n",
            "3. Exit\n",
            "Choose: 1\n",
            "1. Add\n",
            "2. Subtract\n",
            "3. Exit\n",
            "Choose: 3\n"
          ]
        }
      ]
    }
  ],
  "metadata": {
    "colab": {
      "provenance": [],
      "include_colab_link": true
    },
    "language_info": {
      "name": "python"
    },
    "kernelspec": {
      "name": "python3",
      "display_name": "Python 3"
    }
  },
  "nbformat": 4,
  "nbformat_minor": 5
}