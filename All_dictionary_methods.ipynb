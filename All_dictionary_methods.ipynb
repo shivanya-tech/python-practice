{
  "nbformat": 4,
  "nbformat_minor": 0,
  "metadata": {
    "colab": {
      "provenance": [],
      "authorship_tag": "ABX9TyMTD66oogwbueWk8qlvNXl1",
      "include_colab_link": true
    },
    "kernelspec": {
      "name": "python3",
      "display_name": "Python 3"
    },
    "language_info": {
      "name": "python"
    }
  },
  "cells": [
    {
      "cell_type": "markdown",
      "metadata": {
        "id": "view-in-github",
        "colab_type": "text"
      },
      "source": [
        "<a href=\"https://colab.research.google.com/github/shivanya-tech/python-practice/blob/main/All_dictionary_methods.ipynb\" target=\"_parent\"><img src=\"https://colab.research.google.com/assets/colab-badge.svg\" alt=\"Open In Colab\"/></a>"
      ]
    },
    {
      "cell_type": "markdown",
      "source": [
        "\n",
        "\"\"\"\n",
        "# 📚 Python Dictionary Methods Notebook\n",
        "\n",
        "✅ This notebook demonstrates 12 dictionary methods in Python.\n",
        "Each method is:\n",
        "\n",
        "- 🧠 Shown in a clean, separate cell\n",
        "- 🧪 Includes input and output for clarity\n",
        "- 🛠️ Useful for coding, learning, and debugging\n",
        "\n",
        "**How to Use:**\n",
        "- ▶️ Run each cell to see its effect\n",
        "- 📝 Try changing the dictionary values to explore\n",
        "\"\"\""
      ],
      "metadata": {
        "id": "IFMtIMttjp33"
      }
    },
    {
      "cell_type": "code",
      "source": [
        "# @title get()\n",
        "info = {\"name\": \"Shivani\", \"age\": 22}\n",
        "print(info.get(\"name\"))  # Shivani\n",
        "print(info.get(\"city\"))  # None\n",
        "print(info.get(\"gender\", \"Not found\"))  # Not found\n"
      ],
      "metadata": {
        "colab": {
          "base_uri": "https://localhost:8080/"
        },
        "id": "GZejhkAAjww3",
        "outputId": "6df1e728-a80f-4f29-d402-a32feb124fd3"
      },
      "execution_count": 1,
      "outputs": [
        {
          "output_type": "stream",
          "name": "stdout",
          "text": [
            "Shivani\n",
            "None\n",
            "Not found\n"
          ]
        }
      ]
    },
    {
      "cell_type": "code",
      "source": [
        "# @title keys() : values()\n",
        "print(info.keys())  # dict_keys(['name', 'age'])\n",
        "print(list(info.keys()))  # ['name', 'age']\n",
        "#To iterate over all keys:\n",
        "for key in info.keys():\n",
        "    print(key)\n",
        "\n",
        "\n",
        "print(info.values())\n",
        "print(list(info.values()))\n",
        "#To iterate over all keys:\n",
        "for value in info.values():\n",
        "    print(value)\n",
        "\n"
      ],
      "metadata": {
        "colab": {
          "base_uri": "https://localhost:8080/"
        },
        "id": "zquYNbssj06G",
        "outputId": "0d3bf17b-bd95-4347-800b-0791e7aa8199"
      },
      "execution_count": 3,
      "outputs": [
        {
          "output_type": "stream",
          "name": "stdout",
          "text": [
            "dict_keys(['name', 'age'])\n",
            "['name', 'age']\n",
            "name\n",
            "age\n",
            "dict_values(['Shivani', 22])\n",
            "['Shivani', 22]\n",
            "Shivani\n",
            "22\n"
          ]
        }
      ]
    },
    {
      "cell_type": "code",
      "source": [
        "# @title items()\n",
        "print(info.items())  # dict_items([('name', 'Shivani'), ('age', 22)])\n",
        "print(list(info.items()) )\n",
        "#To iterate over both keys and values:\n",
        "for key, value in info.items():\n",
        "     print(f\"{key}: {value}\")\n"
      ],
      "metadata": {
        "colab": {
          "base_uri": "https://localhost:8080/"
        },
        "id": "0XpVnfZFj_BM",
        "outputId": "cfcc1979-14d5-4640-cb47-f17b8c2a9929"
      },
      "execution_count": 6,
      "outputs": [
        {
          "output_type": "stream",
          "name": "stdout",
          "text": [
            "dict_items([('name', 'Shivani'), ('age', 22)])\n",
            "[('name', 'Shivani'), ('age', 22)]\n",
            "name: Shivani\n",
            "age: 22\n"
          ]
        }
      ]
    },
    {
      "cell_type": "code",
      "source": [
        "# @title update()\n",
        "info = {\"name\": \"Shivani\", \"age\": 22}\n",
        "info.update({ \"city\": \"Delhi\"})\n",
        "print(info)  # {'name': 'Shivani', 'age': 22, 'city': 'Delhi'}\n",
        "info.update(grade=\"A\", phone=\"1234567890\")\n",
        "print(info)\n",
        "#Merge two dictionaries.\n",
        "\n"
      ],
      "metadata": {
        "id": "_2t7kdTbkB5k",
        "outputId": "e03551fb-2b99-448e-fa35-b74b4bd1960a",
        "colab": {
          "base_uri": "https://localhost:8080/"
        }
      },
      "execution_count": 8,
      "outputs": [
        {
          "output_type": "stream",
          "name": "stdout",
          "text": [
            "{'name': 'Shivani', 'age': 22, 'city': 'Delhi'}\n",
            "{'name': 'Shivani', 'age': 22, 'city': 'Delhi', 'grade': 'A', 'phone': '1234567890'}\n"
          ]
        }
      ]
    },
    {
      "cell_type": "code",
      "source": [
        "# @title pop()\n",
        "#dict.pop(key, default)\n",
        "\n",
        "info = {\"name\": \"Shivani\", \"age\": 22}\n",
        "age = info.pop(\"age\")\n",
        "print(age)       # 22\n",
        "print(info)      # {'name': 'Shivani'}\n",
        "value = info.pop(\"address\")  # ❗ Raises KeyError\n"
      ],
      "metadata": {
        "id": "uwy-3mLLkE4g",
        "outputId": "1337b064-4109-46f5-bf9e-4b78c978bd1f",
        "colab": {
          "base_uri": "https://localhost:8080/",
          "height": 211
        }
      },
      "execution_count": 10,
      "outputs": [
        {
          "output_type": "stream",
          "name": "stdout",
          "text": [
            "22\n",
            "{'name': 'Shivani'}\n"
          ]
        },
        {
          "output_type": "error",
          "ename": "KeyError",
          "evalue": "'address'",
          "traceback": [
            "\u001b[0;31m---------------------------------------------------------------------------\u001b[0m",
            "\u001b[0;31mKeyError\u001b[0m                                  Traceback (most recent call last)",
            "\u001b[0;32m<ipython-input-10-e72ed4888f67>\u001b[0m in \u001b[0;36m<cell line: 0>\u001b[0;34m()\u001b[0m\n\u001b[1;32m      6\u001b[0m \u001b[0mprint\u001b[0m\u001b[0;34m(\u001b[0m\u001b[0mage\u001b[0m\u001b[0;34m)\u001b[0m       \u001b[0;31m# 22\u001b[0m\u001b[0;34m\u001b[0m\u001b[0;34m\u001b[0m\u001b[0m\n\u001b[1;32m      7\u001b[0m \u001b[0mprint\u001b[0m\u001b[0;34m(\u001b[0m\u001b[0minfo\u001b[0m\u001b[0;34m)\u001b[0m      \u001b[0;31m# {'name': 'Shivani'}\u001b[0m\u001b[0;34m\u001b[0m\u001b[0;34m\u001b[0m\u001b[0m\n\u001b[0;32m----> 8\u001b[0;31m \u001b[0mvalue\u001b[0m \u001b[0;34m=\u001b[0m \u001b[0minfo\u001b[0m\u001b[0;34m.\u001b[0m\u001b[0mpop\u001b[0m\u001b[0;34m(\u001b[0m\u001b[0;34m\"address\"\u001b[0m\u001b[0;34m)\u001b[0m  \u001b[0;31m# ❗ Raises KeyError\u001b[0m\u001b[0;34m\u001b[0m\u001b[0;34m\u001b[0m\u001b[0m\n\u001b[0m",
            "\u001b[0;31mKeyError\u001b[0m: 'address'"
          ]
        }
      ]
    },
    {
      "cell_type": "code",
      "source": [
        "# @title popitem()\n",
        "info = {\"name\": \"Shivani\", \"age\": 22}\n",
        "last_item = info.popitem()\n",
        "print(last_item)  # ('age', 22) or ('name', 'Shivani')\n",
        "print(info)"
      ],
      "metadata": {
        "id": "_TZ5wVMqkHWH",
        "outputId": "68fe7672-43db-499f-c978-b32409381fb7",
        "colab": {
          "base_uri": "https://localhost:8080/"
        }
      },
      "execution_count": 11,
      "outputs": [
        {
          "output_type": "stream",
          "name": "stdout",
          "text": [
            "('age', 22)\n",
            "{'name': 'Shivani'}\n"
          ]
        }
      ]
    },
    {
      "cell_type": "code",
      "source": [
        "\n",
        "# @title clear()\n",
        "info = {\"name\": \"Shivani\"}\n",
        "info.clear()\n",
        "print(info)  # {}\n",
        "\n",
        "student={}\n",
        "student.clear()\n",
        "print(student)"
      ],
      "metadata": {
        "id": "eIzUKiFQkLDg",
        "outputId": "5ba427da-a39e-46f2-df54-a6aaf5de5f43",
        "colab": {
          "base_uri": "https://localhost:8080/"
        }
      },
      "execution_count": 12,
      "outputs": [
        {
          "output_type": "stream",
          "name": "stdout",
          "text": [
            "{}\n",
            "{}\n"
          ]
        }
      ]
    },
    {
      "cell_type": "code",
      "source": [
        "# @title setdefault()\n",
        "profile = {\"name\": \"Shivani\"}\n",
        "profile.setdefault(\"age\", 22)\n",
        "print(profile)  # {'name': 'Shivani', 'age': 22}"
      ],
      "metadata": {
        "id": "ZzAQku5fkL2G"
      },
      "execution_count": null,
      "outputs": []
    },
    {
      "cell_type": "code",
      "source": [
        "# @title copy()\n",
        "original = {\"a\": 1, \"b\": 2}\n",
        "copy_dict = original.copy()\n",
        "print(copy_dict)  # {'a': 1, 'b': 2}"
      ],
      "metadata": {
        "colab": {
          "base_uri": "https://localhost:8080/"
        },
        "id": "9Xk-rT9CkPHq",
        "outputId": "9cc42f1a-caee-48d2-f722-ae5655353bf4"
      },
      "execution_count": null,
      "outputs": [
        {
          "output_type": "stream",
          "name": "stdout",
          "text": [
            "{'a': 1, 'b': 2}\n"
          ]
        }
      ]
    },
    {
      "cell_type": "code",
      "source": [
        "# @title len() on dict\n",
        "print(len(original))  # 2"
      ],
      "metadata": {
        "colab": {
          "base_uri": "https://localhost:8080/"
        },
        "id": "DDThJ-Y8kRHy",
        "outputId": "fbc4e01f-e0c4-4d64-9f25-96c90a744002"
      },
      "execution_count": null,
      "outputs": [
        {
          "output_type": "stream",
          "name": "stdout",
          "text": [
            "2\n"
          ]
        }
      ]
    },
    {
      "cell_type": "code",
      "source": [
        "# @title in keyword\n",
        "print(\"a\" in original)     # True\n",
        "print(\"z\" in original)     # False\n"
      ],
      "metadata": {
        "colab": {
          "base_uri": "https://localhost:8080/"
        },
        "id": "EhzVdQrokT52",
        "outputId": "5a370670-634a-4094-90cc-dd9d7a35372d"
      },
      "execution_count": null,
      "outputs": [
        {
          "output_type": "stream",
          "name": "stdout",
          "text": [
            "True\n",
            "False\n"
          ]
        }
      ]
    },
    {
      "cell_type": "code",
      "source": [
        "# @title dict.fromkeys()\n",
        "keys = [\"name\", \"age\"]\n",
        "defaults = dict.fromkeys(keys, \"unknown\")\n",
        "print(defaults)  # {'name': 'unknown', 'age': 'unknown'}\n"
      ],
      "metadata": {
        "colab": {
          "base_uri": "https://localhost:8080/"
        },
        "id": "hWiYlR4tkX7e",
        "outputId": "aa061479-69dc-4319-9472-55c5b977f5be"
      },
      "execution_count": null,
      "outputs": [
        {
          "output_type": "stream",
          "name": "stdout",
          "text": [
            "{'name': 'unknown', 'age': 'unknown'}\n"
          ]
        }
      ]
    }
  ]
}