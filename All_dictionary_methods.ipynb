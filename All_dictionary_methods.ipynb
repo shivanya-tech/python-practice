{
  "nbformat": 4,
  "nbformat_minor": 0,
  "metadata": {
    "colab": {
      "provenance": [],
      "authorship_tag": "ABX9TyMcPtsBGhdO6D/qYp7KwQ9h",
      "include_colab_link": true
    },
    "kernelspec": {
      "name": "python3",
      "display_name": "Python 3"
    },
    "language_info": {
      "name": "python"
    }
  },
  "cells": [
    {
      "cell_type": "markdown",
      "metadata": {
        "id": "view-in-github",
        "colab_type": "text"
      },
      "source": [
        "<a href=\"https://colab.research.google.com/github/shivanya-tech/python-practice/blob/main/All_dictionary_methods.ipynb\" target=\"_parent\"><img src=\"https://colab.research.google.com/assets/colab-badge.svg\" alt=\"Open In Colab\"/></a>"
      ]
    },
    {
      "cell_type": "markdown",
      "source": [
        "\n",
        "\"\"\"\n",
        "# 📚 Python Dictionary Methods Notebook\n",
        "\n",
        "✅ This notebook demonstrates 12 dictionary methods in Python.\n",
        "Each method is:\n",
        "\n",
        "- 🧠 Shown in a clean, separate cell\n",
        "- 🧪 Includes input and output for clarity\n",
        "- 🛠️ Useful for coding, learning, and debugging\n",
        "\n",
        "**How to Use:**\n",
        "- ▶️ Run each cell to see its effect\n",
        "- 📝 Try changing the dictionary values to explore\n",
        "\"\"\""
      ],
      "metadata": {
        "id": "IFMtIMttjp33"
      }
    },
    {
      "cell_type": "code",
      "source": [
        "# @title get()\n",
        "info = {\"name\": \"Shivani\", \"age\": 22}\n",
        "print(info.get(\"name\"))  # Shivani\n",
        "print(info.get(\"gender\", \"Not found\"))  # Not found\n"
      ],
      "metadata": {
        "colab": {
          "base_uri": "https://localhost:8080/"
        },
        "id": "GZejhkAAjww3",
        "outputId": "28a92e6f-a286-4999-bd09-caa0c208278f"
      },
      "execution_count": null,
      "outputs": [
        {
          "output_type": "stream",
          "name": "stdout",
          "text": [
            "Shivani\n",
            "Not found\n"
          ]
        }
      ]
    },
    {
      "cell_type": "code",
      "source": [
        "# @title keys() : values()\n",
        "print(info.keys())  # dict_keys(['name', 'age'])\n",
        "print(info.values())  # dict_values(['Shivani', 22])\n"
      ],
      "metadata": {
        "colab": {
          "base_uri": "https://localhost:8080/"
        },
        "id": "zquYNbssj06G",
        "outputId": "7c731256-fcc7-4448-ca44-8fd884182cb5"
      },
      "execution_count": null,
      "outputs": [
        {
          "output_type": "stream",
          "name": "stdout",
          "text": [
            "dict_keys(['name', 'age'])\n",
            "dict_values(['Shivani', 22])\n"
          ]
        }
      ]
    },
    {
      "cell_type": "code",
      "source": [
        "# @title items()\n",
        "print(info.items())  # dict_items([('name', 'Shivani'), ('age', 22)])"
      ],
      "metadata": {
        "colab": {
          "base_uri": "https://localhost:8080/"
        },
        "id": "0XpVnfZFj_BM",
        "outputId": "3352ca9a-31ff-4753-faa2-b4565eed6046"
      },
      "execution_count": null,
      "outputs": [
        {
          "output_type": "stream",
          "name": "stdout",
          "text": [
            "dict_items([('name', 'Shivani'), ('age', 22)])\n"
          ]
        }
      ]
    },
    {
      "cell_type": "code",
      "source": [
        "# @title update()\n",
        "info.update({\"age\": 23, \"city\": \"Delhi\"})\n",
        "print(info)  # {'name': 'Shivani', 'age': 23, 'city': 'Delhi'}"
      ],
      "metadata": {
        "id": "_2t7kdTbkB5k"
      },
      "execution_count": null,
      "outputs": []
    },
    {
      "cell_type": "code",
      "source": [
        "# @title pop()\n",
        "info = {\"name\": \"Shivani\", \"age\": 22}\n",
        "age = info.pop(\"age\")\n",
        "print(age)       # 22\n",
        "print(info)      # {'name': 'Shivani'}"
      ],
      "metadata": {
        "id": "uwy-3mLLkE4g"
      },
      "execution_count": null,
      "outputs": []
    },
    {
      "cell_type": "code",
      "source": [
        "# @title popitem()\n",
        "info = {\"name\": \"Shivani\", \"age\": 22}\n",
        "last_item = info.popitem()\n",
        "print(last_item)  # ('age', 22) or ('name', 'Shivani')\n",
        "print(info)"
      ],
      "metadata": {
        "id": "_TZ5wVMqkHWH"
      },
      "execution_count": null,
      "outputs": []
    },
    {
      "cell_type": "code",
      "source": [
        "\n",
        "# @title clear()\n",
        "info = {\"name\": \"Shivani\"}\n",
        "info.clear()\n",
        "print(info)  # {}"
      ],
      "metadata": {
        "id": "eIzUKiFQkLDg"
      },
      "execution_count": null,
      "outputs": []
    },
    {
      "cell_type": "code",
      "source": [
        "# @title setdefault()\n",
        "profile = {\"name\": \"Shivani\"}\n",
        "profile.setdefault(\"age\", 22)\n",
        "print(profile)  # {'name': 'Shivani', 'age': 22}"
      ],
      "metadata": {
        "id": "ZzAQku5fkL2G"
      },
      "execution_count": null,
      "outputs": []
    },
    {
      "cell_type": "code",
      "source": [
        "# @title copy()\n",
        "original = {\"a\": 1, \"b\": 2}\n",
        "copy_dict = original.copy()\n",
        "print(copy_dict)  # {'a': 1, 'b': 2}"
      ],
      "metadata": {
        "colab": {
          "base_uri": "https://localhost:8080/"
        },
        "id": "9Xk-rT9CkPHq",
        "outputId": "9cc42f1a-caee-48d2-f722-ae5655353bf4"
      },
      "execution_count": null,
      "outputs": [
        {
          "output_type": "stream",
          "name": "stdout",
          "text": [
            "{'a': 1, 'b': 2}\n"
          ]
        }
      ]
    },
    {
      "cell_type": "code",
      "source": [
        "# @title len() on dict\n",
        "print(len(original))  # 2"
      ],
      "metadata": {
        "colab": {
          "base_uri": "https://localhost:8080/"
        },
        "id": "DDThJ-Y8kRHy",
        "outputId": "fbc4e01f-e0c4-4d64-9f25-96c90a744002"
      },
      "execution_count": null,
      "outputs": [
        {
          "output_type": "stream",
          "name": "stdout",
          "text": [
            "2\n"
          ]
        }
      ]
    },
    {
      "cell_type": "code",
      "source": [
        "# @title in keyword\n",
        "print(\"a\" in original)     # True\n",
        "print(\"z\" in original)     # False\n"
      ],
      "metadata": {
        "colab": {
          "base_uri": "https://localhost:8080/"
        },
        "id": "EhzVdQrokT52",
        "outputId": "5a370670-634a-4094-90cc-dd9d7a35372d"
      },
      "execution_count": null,
      "outputs": [
        {
          "output_type": "stream",
          "name": "stdout",
          "text": [
            "True\n",
            "False\n"
          ]
        }
      ]
    },
    {
      "cell_type": "code",
      "source": [
        "# @title dict.fromkeys()\n",
        "keys = [\"name\", \"age\"]\n",
        "defaults = dict.fromkeys(keys, \"unknown\")\n",
        "print(defaults)  # {'name': 'unknown', 'age': 'unknown'}\n"
      ],
      "metadata": {
        "colab": {
          "base_uri": "https://localhost:8080/"
        },
        "id": "hWiYlR4tkX7e",
        "outputId": "aa061479-69dc-4319-9472-55c5b977f5be"
      },
      "execution_count": null,
      "outputs": [
        {
          "output_type": "stream",
          "name": "stdout",
          "text": [
            "{'name': 'unknown', 'age': 'unknown'}\n"
          ]
        }
      ]
    }
  ]
}