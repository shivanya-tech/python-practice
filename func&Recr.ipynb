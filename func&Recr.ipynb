{
  "nbformat": 4,
  "nbformat_minor": 0,
  "metadata": {
    "colab": {
      "provenance": [],
      "authorship_tag": "ABX9TyNxgkd4bAz4Z6Mc/n1QVFtK",
      "include_colab_link": true
    },
    "kernelspec": {
      "name": "python3",
      "display_name": "Python 3"
    },
    "language_info": {
      "name": "python"
    }
  },
  "cells": [
    {
      "cell_type": "markdown",
      "metadata": {
        "id": "view-in-github",
        "colab_type": "text"
      },
      "source": [
        "<a href=\"https://colab.research.google.com/github/shivanya-tech/python-practice/blob/main/func%26Recr.ipynb\" target=\"_parent\"><img src=\"https://colab.research.google.com/assets/colab-badge.svg\" alt=\"Open In Colab\"/></a>"
      ]
    },
    {
      "cell_type": "markdown",
      "source": [
        "# **Function & Recursion**:\n"
      ],
      "metadata": {
        "id": "O8hFGT0RZ1s8"
      }
    },
    {
      "cell_type": "markdown",
      "source": [
        "#Function"
      ],
      "metadata": {
        "id": "DAQwfQL1UgoG"
      }
    },
    {
      "cell_type": "markdown",
      "source": [
        " 🔁 Function: function is block of statements that perform a specific task\n",
        "\n",
        "A function takes some input (parameters) we call a function by passing arguments, gives back output using `return`.\n",
        "\n",
        "\n",
        "Beginners often get confused between `return` and `print()`. Here's the difference:\n",
        "\n",
        " ✅ return → sends the result *out* of the function (can be used later), Ends the function\n",
        "\n",
        " ✅ print() → just shows the result on screen (for humans to see),\tUsed for debugging or displaying, Doesn’t stop the function"
      ],
      "metadata": {
        "id": "eeKasPKxfFfy"
      }
    },
    {
      "cell_type": "code",
      "execution_count": null,
      "metadata": {
        "colab": {
          "base_uri": "https://localhost:8080/"
        },
        "id": "MdjSIsFwZsxA",
        "outputId": "53d474a3-08d8-455f-e761-dde6305b86df"
      },
      "outputs": [
        {
          "output_type": "stream",
          "name": "stdout",
          "text": [
            "Using return: 25\n",
            "25\n",
            "Using print() only: None\n"
          ]
        }
      ],
      "source": [
        "#  Example using return:\n",
        "def square(x):\n",
        "    return x * x\n",
        "\n",
        "result = square(5)\n",
        "print(f\"Using return: {result}\")  # Output: Using return: 25\n",
        "\n",
        "# Example using print() only:\n",
        "def square_print(x):\n",
        "    print(x * x)\n",
        "\n",
        "result2 = square_print(5)  # This prints 25, but result2 is None!\n",
        "print(f\"Using print() only: {result2}\")  # Output: Using print() only: None\n"
      ]
    },
    {
      "cell_type": "code",
      "source": [
        "# function definition\n",
        "def calc_sum(a, b):  # parameters\n",
        "    return a + b\n",
        "\n",
        "sum = calc_sum(1, 2)  # function call; arguments\n",
        "print(sum)\n"
      ],
      "metadata": {
        "id": "0ju47zkBm291"
      },
      "execution_count": null,
      "outputs": []
    },
    {
      "cell_type": "markdown",
      "source": [
        "#why we use function : **To reduce repetition or redundancy**"
      ],
      "metadata": {
        "id": "Rk32kIeoiPsl"
      }
    },
    {
      "cell_type": "code",
      "source": [
        "# 📌 Function to calculate the difference between two numbers\n",
        "def diff(a, b):\n",
        "    difference = a - b\n",
        "    print(difference)    # Shows the result on screen\n",
        "    return difference    # Sends the result out of the function\n",
        "\n",
        "# Calling the function with different values\n",
        "diff(10, 5)     # Output: 5\n",
        "diff(20, 2)     # Output: 18\n",
        "diff(30, 12)    # Output: 18\n",
        "#In Colab/Jupyter, the return value of the last line is shown automatically."
      ],
      "metadata": {
        "colab": {
          "base_uri": "https://localhost:8080/"
        },
        "id": "PruytaABibmY",
        "outputId": "1eb5789f-2ca9-4965-9560-a2bd851e017e"
      },
      "execution_count": null,
      "outputs": [
        {
          "output_type": "stream",
          "name": "stdout",
          "text": [
            "5\n",
            "18\n",
            "18\n"
          ]
        },
        {
          "output_type": "execute_result",
          "data": {
            "text/plain": [
              "18"
            ]
          },
          "metadata": {},
          "execution_count": 1
        }
      ]
    },
    {
      "cell_type": "code",
      "source": [
        "def say_hello():\n",
        "  return( \"hello\\n\" * 5)\n",
        "\n",
        "print(say_hello())\n"
      ],
      "metadata": {
        "colab": {
          "base_uri": "https://localhost:8080/"
        },
        "id": "OQ1KCNz5nNdY",
        "outputId": "e8147bd0-53dc-4a42-f6db-66099066ebb4"
      },
      "execution_count": null,
      "outputs": [
        {
          "output_type": "stream",
          "name": "stdout",
          "text": [
            "hello\n",
            "hello\n",
            "hello\n",
            "hello\n",
            "hello\n",
            "\n"
          ]
        }
      ]
    },
    {
      "cell_type": "markdown",
      "source": [
        "In Python, if a function does not have a return statement, it automatically returns None.\n",
        "\n"
      ],
      "metadata": {
        "id": "D4x6NMAS9l2t"
      }
    },
    {
      "cell_type": "code",
      "source": [
        "def greet():\n",
        "    print(\"Hello\")  # Just prints inside the function\n",
        "\n",
        "result =greet()   # This will print inside the function\n",
        "print(result)              # This will print: None\n"
      ],
      "metadata": {
        "colab": {
          "base_uri": "https://localhost:8080/"
        },
        "id": "ATgruDHP9oIJ",
        "outputId": "d6da9522-d586-43a2-9e12-80506928e413"
      },
      "execution_count": null,
      "outputs": [
        {
          "output_type": "stream",
          "name": "stdout",
          "text": [
            "Hello\n",
            "None\n"
          ]
        }
      ]
    },
    {
      "cell_type": "markdown",
      "source": [
        " In Python, the print() function already has end and sep parameters defined by default. You can override them as needed.\n",
        "\n"
      ],
      "metadata": {
        "id": "teklcd5q_O4_"
      }
    },
    {
      "cell_type": "code",
      "source": [
        "\n",
        "print(sep=' ', end='\\n', ) #default values for sep and end in Python's print() function:\n",
        "print(\"Hello\",\"World\") #sep = ' ' → separates multiple items with a space\n",
        "print(\"Shivani\", \"Vishwakarma\", sep=\"-\") #change sep\n",
        "print(\"Hello\") # hello and world print on differnt line because there is default end present\n",
        "print(\"World\")\n",
        "\n",
        "print(\"Hii\")  # default end='\\n'\n",
        "print(\"World\")  # default end='\\n'\n",
        "\n",
        "\n",
        "print(\"shivani\", end=\"$\")# ends with $ instead of newline.\n",
        "print(\"vishwakarma\")\n",
        "print(\"shivani\", end=\" \")# print shivani and vishwakarama in single line\n",
        "print(\"vishwakarma\")\n",
        "print(\"Hello\",\"World\") #sep = ' ' → separates multiple items with a space\n",
        "\n"
      ],
      "metadata": {
        "colab": {
          "base_uri": "https://localhost:8080/"
        },
        "id": "fX8NSFuU_Z-v",
        "outputId": "2ee69b71-efde-4fb3-f7da-bf2a6fafddef"
      },
      "execution_count": null,
      "outputs": [
        {
          "output_type": "stream",
          "name": "stdout",
          "text": [
            "\n",
            "Hello World\n",
            "Shivani-Vishwakarma\n",
            "Hello\n",
            "World\n",
            "Hii\n",
            "World\n",
            "shivani$vishwakarma\n",
            "shivani vishwakarma\n",
            "Hello World\n"
          ]
        }
      ]
    },
    {
      "cell_type": "code",
      "source": [
        "# builtin function\n",
        "#Type Conversion: int(), float(), str(), bool()\n",
        "#Mathematical: abs(), pow(), round(), sum(), max(), min()\n",
        "#Iterables & Lists: len(), sorted(), reversed(), enumerate(),range()\n",
        "#Input/Output: print(), input()\n",
        "#Object Handling: type(), id(), isinstance(), dir()\n",
        "\n",
        "print(range(5))#It **does not print the numbers**, but instead shows that it's a **range object\n",
        "print(type(range(5)))\n",
        "### ✅ To print the actual numbers, convert to a list:\n",
        "print(list(range(5)))"
      ],
      "metadata": {
        "id": "VnHfBlekC-Cc",
        "outputId": "77ce354e-0470-473e-fa36-1a082efc8194",
        "colab": {
          "base_uri": "https://localhost:8080/"
        }
      },
      "execution_count": null,
      "outputs": [
        {
          "output_type": "stream",
          "name": "stdout",
          "text": [
            "range(0, 5)\n",
            "<class 'range'>\n",
            "[0, 1, 2, 3, 4]\n"
          ]
        }
      ]
    },
    {
      "cell_type": "markdown",
      "source": [
        "In Python, default parameters are values given to function parameters when no argument is passed during the function call. This makes the parameter optional.\n",
        "\n"
      ],
      "metadata": {
        "id": "Kv-aVZ0Etg5L"
      }
    },
    {
      "cell_type": "code",
      "source": [
        "def multiply(a=1, b=2):\n",
        "    return a * b\n",
        "\n",
        "print(multiply())  # Output: 2\n",
        "print(multiply(3))  # Output: 6  If you pass one argument, it fills the first parameter (a), and b uses its default.\n",
        "print(multiply(3, 4))  # Output: 12\n"
      ],
      "metadata": {
        "colab": {
          "base_uri": "https://localhost:8080/"
        },
        "id": "AOWfG7TwtnlF",
        "outputId": "33b66f47-141f-4d87-a81f-d760ac945600"
      },
      "execution_count": null,
      "outputs": [
        {
          "output_type": "stream",
          "name": "stdout",
          "text": [
            "2\n",
            "6\n",
            "12\n"
          ]
        }
      ]
    },
    {
      "cell_type": "code",
      "source": [
        "# First correct function\n",
        "def multiply(a, b=2):\n",
        "    return a * b\n",
        "\n",
        "print(multiply(1))  # Output: 2\n",
        "\n"
      ],
      "metadata": {
        "colab": {
          "base_uri": "https://localhost:8080/"
        },
        "id": "uPhfAM81uHB7",
        "outputId": "7d736f35-2837-4129-8caf-6f2bba545063"
      },
      "execution_count": null,
      "outputs": [
        {
          "output_type": "stream",
          "name": "stdout",
          "text": [
            "2\n"
          ]
        }
      ]
    },
    {
      "cell_type": "code",
      "source": [
        "# second correct function\n",
        "def multiply2(p=2, q):  # ❌ This will still give SyntaxError\n",
        "    return p * q\n",
        "\n",
        "print(multiply2(1))"
      ],
      "metadata": {
        "colab": {
          "base_uri": "https://localhost:8080/",
          "height": 106
        },
        "collapsed": true,
        "id": "CNAoI0lzv2Cu",
        "outputId": "f08490c4-d5e5-4c47-cf4e-32549176acc4"
      },
      "execution_count": null,
      "outputs": [
        {
          "output_type": "error",
          "ename": "SyntaxError",
          "evalue": "non-default argument follows default argument (ipython-input-7-3972119722.py, line 2)",
          "traceback": [
            "\u001b[0;36m  File \u001b[0;32m\"/tmp/ipython-input-7-3972119722.py\"\u001b[0;36m, line \u001b[0;32m2\u001b[0m\n\u001b[0;31m    def multiply2(p=2, q):  # ❌ This will still give SyntaxError\u001b[0m\n\u001b[0m                       ^\u001b[0m\n\u001b[0;31mSyntaxError\u001b[0m\u001b[0;31m:\u001b[0m non-default argument follows default argument\n"
          ]
        }
      ]
    },
    {
      "cell_type": "markdown",
      "source": [
        "#some problems to **solve**"
      ],
      "metadata": {
        "id": "Q4Rana4YwJHt"
      }
    },
    {
      "cell_type": "code",
      "source": [
        "#WRITE A FUNCTION to print the length of a list\n",
        "#Write A FUNCTION to print the elements of list in a single line\n",
        "#Write A FUNCTION to find the factorial of n , n is parameter\n",
        "#Write A FUNCTION to convert a USD to INR\n",
        "#Write a function to find the largest number in a list\n",
        "#Write a function to count vowels in a string\n",
        "#Write a function to print the Fibonacci series up to n terms\n"
      ],
      "metadata": {
        "id": "J1me-cPtwW5s"
      },
      "execution_count": null,
      "outputs": []
    },
    {
      "cell_type": "markdown",
      "source": [
        "# Recursion"
      ],
      "metadata": {
        "id": "B_ckmlroUcwJ"
      }
    },
    {
      "cell_type": "markdown",
      "source": [
        "when a function calls itself repeatedly"
      ],
      "metadata": {
        "id": "bvxjGX9HVpu1"
      }
    },
    {
      "cell_type": "code",
      "source": [
        "\"\"\"def recursive_function(parameters):\n",
        "    # 1. Base Case: A condition to stop recursion\n",
        "    if stopping_condition:\n",
        "        return some_value\n",
        "\n",
        "    # 2. Recursive Case: Call the function again with a smaller/simpler input\n",
        "    return recursive_function(smaller_problem)\n",
        "\"\"\"\n",
        "#example:\n",
        "def factorial(n):\n",
        "    if n == 0:              # ← base case\n",
        "        return 1\n",
        "    return n * factorial(n - 1)  # ← recursive call\n",
        "n = int(input(\"Enter a number: \"))\n",
        "result = factorial(n)\n",
        "print(\"Factorial of\", n, \"is\", result)\n",
        "\n"
      ],
      "metadata": {
        "id": "XrcH8Ekscg_x",
        "outputId": "70102d45-0d90-4cd0-c272-6ad6db34f1f0",
        "colab": {
          "base_uri": "https://localhost:8080/"
        }
      },
      "execution_count": 1,
      "outputs": [
        {
          "output_type": "stream",
          "name": "stdout",
          "text": [
            "Enter a number: 5\n",
            "Factorial of 5 is 120\n"
          ]
        }
      ]
    },
    {
      "cell_type": "code",
      "source": [
        "def show(n):\n",
        "    if n == 0:\n",
        "        return\n",
        "    print(n)\n",
        "    show(n - 1)\n",
        "    print(\"END\")\n",
        "\n",
        "show(3)\n"
      ],
      "metadata": {
        "id": "UTBkwaZyhA3x"
      },
      "execution_count": null,
      "outputs": []
    }
  ]
}