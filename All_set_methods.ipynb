{
  "nbformat": 4,
  "nbformat_minor": 0,
  "metadata": {
    "colab": {
      "provenance": [],
      "authorship_tag": "ABX9TyPwGy41Bd+rYX6ld10g/cv7",
      "include_colab_link": true
    },
    "kernelspec": {
      "name": "python3",
      "display_name": "Python 3"
    },
    "language_info": {
      "name": "python"
    }
  },
  "cells": [
    {
      "cell_type": "markdown",
      "metadata": {
        "id": "view-in-github",
        "colab_type": "text"
      },
      "source": [
        "<a href=\"https://colab.research.google.com/github/shivanya-tech/python-practice/blob/main/All_set_methods.ipynb\" target=\"_parent\"><img src=\"https://colab.research.google.com/assets/colab-badge.svg\" alt=\"Open In Colab\"/></a>"
      ]
    },
    {
      "cell_type": "markdown",
      "source": [
        "\"\"\"\n",
        "# 🧮 Python Set Methods Notebook\n",
        "\n",
        "✅ This notebook showcases essential set methods in Python.\n",
        "Each cell contains:\n",
        "\n",
        "- ✅ Clear examples\n",
        "- 🧪 Ready-to-run code snippets\n",
        "- 📘 Useful for practice and revision\n",
        "\n",
        "**Usage Tip:**\n",
        "- ▶️ Run cells to see what each method does\n",
        "- 🛠️ Try adding/removing elements to test behavior\n",
        "\"\"\""
      ],
      "metadata": {
        "id": "botMQUOlmpHO"
      }
    },
    {
      "cell_type": "code",
      "source": [
        "# @title add()\n",
        "s = {1, 2, 3}\n",
        "s.add(4)\n",
        "print(s)  # {1, 2, 3, 4}\n"
      ],
      "metadata": {
        "id": "GiZ-MkMFmr4M"
      },
      "execution_count": null,
      "outputs": []
    },
    {
      "cell_type": "code",
      "source": [
        "# @title update()\n",
        "s.update([5, 6])\n",
        "print(s)  # {1, 2, 3, 4, 5, 6}"
      ],
      "metadata": {
        "id": "lMdV770ymxOd"
      },
      "execution_count": null,
      "outputs": []
    },
    {
      "cell_type": "code",
      "source": [
        "# @title remove()\n",
        "s.remove(3)\n",
        "print(s)  # {1, 2, 4, 5, 6}\n"
      ],
      "metadata": {
        "id": "xwmSkflDmz_u"
      },
      "execution_count": null,
      "outputs": []
    },
    {
      "cell_type": "code",
      "source": [
        "# @title discard()\n",
        "s.discard(10)  # No error if not present\n",
        "print(s)\n"
      ],
      "metadata": {
        "id": "DbuwclsAm24u"
      },
      "execution_count": null,
      "outputs": []
    },
    {
      "cell_type": "code",
      "source": [
        "# @title pop()\n",
        "element = s.pop()\n",
        "print(element)  # Random element\n",
        "print(s)\n"
      ],
      "metadata": {
        "id": "mOMVRZR4m6xO"
      },
      "execution_count": null,
      "outputs": []
    },
    {
      "cell_type": "code",
      "source": [
        "# @title clear()\n",
        "s.clear()\n",
        "print(s)  # set()\n"
      ],
      "metadata": {
        "id": "huurG1rKm7lK"
      },
      "execution_count": null,
      "outputs": []
    },
    {
      "cell_type": "code",
      "source": [
        "# @title union()\n",
        "a = {1, 2}\n",
        "b = {2, 3}\n",
        "print(a.union(b))  # {1, 2, 3}\n"
      ],
      "metadata": {
        "id": "5_vdxS8Fm-XZ"
      },
      "execution_count": null,
      "outputs": []
    },
    {
      "cell_type": "code",
      "source": [
        "# @title intersection()\n",
        "print(a.intersection(b))  # {2}"
      ],
      "metadata": {
        "id": "4nbz0T3wnA9Z"
      },
      "execution_count": null,
      "outputs": []
    },
    {
      "cell_type": "code",
      "source": [
        "# @title difference() & difference_update()\n",
        "print(a.difference(b))  # {1}\n",
        "\n",
        "\n",
        "a = {1, 2, 3}\n",
        "b = {2, 3}\n",
        "a.difference_update(b)\n",
        "print(a)  # {1}"
      ],
      "metadata": {
        "id": "z574v6u_nGFP"
      },
      "execution_count": null,
      "outputs": []
    },
    {
      "cell_type": "code",
      "source": [
        "# @title symmetric_difference() & symmetric_difference_update()\n",
        "print(a.symmetric_difference(b))  # {1, 3}\n",
        "\n",
        "a = {1, 2, 3}\n",
        "b = {3, 4}\n",
        "a.symmetric_difference_update(b)\n",
        "print(a)  # {1, 2, 4}\n"
      ],
      "metadata": {
        "id": "E7gXo6uXnQWp"
      },
      "execution_count": null,
      "outputs": []
    },
    {
      "cell_type": "code",
      "source": [
        "# @title issubset() , issuperset() , isdisjoint()\n",
        "a = {1, 2}\n",
        "b = {1, 2, 3}\n",
        "print(a.issubset(b))  # True\n",
        "\n",
        "\n",
        "print(b.issuperset(a))  # True\n",
        "\n",
        "\n",
        "x = {1, 2}\n",
        "y = {3, 4}\n",
        "print(x.isdisjoint(y))  # True"
      ],
      "metadata": {
        "colab": {
          "base_uri": "https://localhost:8080/"
        },
        "id": "JxSa0bvUnY5d",
        "outputId": "942c8639-c431-4c62-8820-46e779765352"
      },
      "execution_count": null,
      "outputs": [
        {
          "output_type": "stream",
          "name": "stdout",
          "text": [
            "True\n",
            "True\n",
            "True\n"
          ]
        }
      ]
    },
    {
      "cell_type": "code",
      "source": [
        "# @title copy()\n",
        "s = {5, 6, 7}\n",
        "s_copy = s.copy()\n",
        "print(s_copy)  # {5, 6, 7}\n"
      ],
      "metadata": {
        "id": "5cPXQM6pnor1"
      },
      "execution_count": null,
      "outputs": []
    },
    {
      "cell_type": "code",
      "source": [
        "\n",
        "# @title len() on set\n",
        "print(len(s))  # 3"
      ],
      "metadata": {
        "id": "pNwF1UtPnrdR"
      },
      "execution_count": null,
      "outputs": []
    },
    {
      "cell_type": "code",
      "source": [
        "# @title in keyword\n",
        "print(5 in s)   # True\n",
        "print(9 in s)   # False"
      ],
      "metadata": {
        "id": "CIZEcA4OnsQ_"
      },
      "execution_count": null,
      "outputs": []
    },
    {
      "cell_type": "markdown",
      "source": [],
      "metadata": {
        "id": "fyagkncCmrky"
      }
    }
  ]
}